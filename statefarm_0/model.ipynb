{
 "cells": [
  {
   "cell_type": "code",
   "execution_count": 1,
   "id": "32aea59f",
   "metadata": {},
   "outputs": [],
   "source": [
    "import matplotlib.pyplot as plt\n",
    "import numpy as np\n",
    "import pandas as pd\n",
    "from sklearn.calibration import calibration_curve\n",
    "from sklearn.calibration import CalibratedClassifierCV\n",
    "from sklearn.linear_model import LogisticRegression\n",
    "from sklearn.metrics import roc_auc_score\n",
    "from sklearn.metrics import classification_report\n",
    "from sklearn.metrics import make_scorer\n",
    "from sklearn.metrics import average_precision_score\n",
    "from sklearn.model_selection import cross_val_score as cv_score\n",
    "from sklearn.model_selection import GridSearchCV\n",
    "from sklearn.model_selection import learning_curve\n",
    "from sklearn.model_selection import StratifiedKFold\n",
    "from sklearn.model_selection import train_test_split\n",
    "from sklearn.ensemble import GradientBoostingClassifier\n",
    "from sklearn.impute import SimpleImputer\n",
    "from sklearn.preprocessing import OneHotEncoder"
   ]
  },
  {
   "cell_type": "markdown",
   "id": "f4cb8bfe",
   "metadata": {},
   "source": [
    "#### Executive Summary\n",
    "\n",
    "Given that the boosted trees model had a slightly higher AUC, it would likely perform better on the test set. However, the baseline logistic regression model has better calibrated probability estimates. Given how similar the performance between these two models is, it might be unnecessary to deploy the machine learning model. Depending on the needs of the business, the logistic regression model might be sufficient. In many cases ML is overkill, hence the importance of having a simple baseline model for comparison.\n",
    "\n",
    "- Performance\n",
    "These performance estimates are generated from cross validation, which should be a reasonable approximation of the expected test set performance. Looking at AUC alone, the boosted trees model is expected to slightly outperform the baseline logistic regression model. However, it is important to note that the probabilities from the regression model are more calibrated.\n",
    "\n",
    "| Model | Regression | Boosted Trees |\n",
    "| --- | --- | --- |\n",
    "| AUC | 0.540 | 0.556 | \n",
    "\n",
    "- Method\n",
    "A baseline calibrated logistic regression model and a boosted trees classification model were compared. The baseline logistic regression model had a lasso (L1) penalty and Platt scaling for probability calibration. Performances were compared using 10 fold cross validation. Learning curve diagnostics suggest that the models could benefit from gathering more data.\n",
    "\n",
    "- Pros vs. Cons\n",
    "The baseline logistic regression model has the benefit of being simple and fast to train. Additionally, the use of Platt scaling to calibrate the probabilities resulted in better calibration relative to the boosted trees model. A drawback of the regression model is the assumption of a linear relationship between the covariates and the target class. This could be improved somewhat by including pairwise interactions. In contrast, the boosted trees model can account for pairwise interactions and reduce bias. During model training, it reduces bias by focusing more on misclassified examples within each subsequent tree. The downside of training the ML model is the computational time required and the size of the model in memory.\n",
    "\n",
    "- Caveat\n",
    "There was no column denoting the relative time of each row. There is a concern that the cross validation results are biased as time series cross validation was not used. There was no way to ensure that there is no temporal data leakage across validation splits or between the train and test data."
   ]
  },
  {
   "cell_type": "code",
   "execution_count": 2,
   "id": "fdbb7f8b",
   "metadata": {},
   "outputs": [],
   "source": [
    "DATA_PATH = \"./data/\"\n",
    "data_tr = pd.read_csv(DATA_PATH + \"exercise_40_train.csv\")\n",
    "data_te = pd.read_csv(DATA_PATH + \"exercise_40_test.csv\")"
   ]
  },
  {
   "cell_type": "markdown",
   "id": "0e34d619",
   "metadata": {},
   "source": [
    "#### Data Explore"
   ]
  },
  {
   "cell_type": "code",
   "execution_count": 3,
   "id": "2621c77f",
   "metadata": {},
   "outputs": [
    {
     "data": {
      "text/plain": [
       "(y         int64\n",
       " x1      float64\n",
       " x2      float64\n",
       " x3       object\n",
       " x4      float64\n",
       "          ...   \n",
       " x96     float64\n",
       " x97     float64\n",
       " x98       int64\n",
       " x99      object\n",
       " x100    float64\n",
       " Length: 101, dtype: object,\n",
       " x1      float64\n",
       " x2      float64\n",
       " x3       object\n",
       " x4      float64\n",
       " x5      float64\n",
       "          ...   \n",
       " x96     float64\n",
       " x97     float64\n",
       " x98       int64\n",
       " x99      object\n",
       " x100    float64\n",
       " Length: 100, dtype: object)"
      ]
     },
     "execution_count": 3,
     "metadata": {},
     "output_type": "execute_result"
    }
   ],
   "source": [
    "data_tr.dtypes, data_te.dtypes"
   ]
  },
  {
   "cell_type": "code",
   "execution_count": 4,
   "id": "f77da591",
   "metadata": {},
   "outputs": [
    {
     "data": {
      "text/html": [
       "<div>\n",
       "<style scoped>\n",
       "    .dataframe tbody tr th:only-of-type {\n",
       "        vertical-align: middle;\n",
       "    }\n",
       "\n",
       "    .dataframe tbody tr th {\n",
       "        vertical-align: top;\n",
       "    }\n",
       "\n",
       "    .dataframe thead th {\n",
       "        text-align: right;\n",
       "    }\n",
       "</style>\n",
       "<table border=\"1\" class=\"dataframe\">\n",
       "  <thead>\n",
       "    <tr style=\"text-align: right;\">\n",
       "      <th></th>\n",
       "      <th>y</th>\n",
       "      <th>x1</th>\n",
       "      <th>x2</th>\n",
       "      <th>x4</th>\n",
       "      <th>x5</th>\n",
       "      <th>x6</th>\n",
       "      <th>x8</th>\n",
       "      <th>x9</th>\n",
       "      <th>x10</th>\n",
       "      <th>x11</th>\n",
       "      <th>...</th>\n",
       "      <th>x89</th>\n",
       "      <th>x90</th>\n",
       "      <th>x91</th>\n",
       "      <th>x92</th>\n",
       "      <th>x94</th>\n",
       "      <th>x95</th>\n",
       "      <th>x96</th>\n",
       "      <th>x97</th>\n",
       "      <th>x98</th>\n",
       "      <th>x100</th>\n",
       "    </tr>\n",
       "  </thead>\n",
       "  <tbody>\n",
       "    <tr>\n",
       "      <th>count</th>\n",
       "      <td>40000.000000</td>\n",
       "      <td>40000.000000</td>\n",
       "      <td>40000.000000</td>\n",
       "      <td>40000.000000</td>\n",
       "      <td>37572.000000</td>\n",
       "      <td>40000.000000</td>\n",
       "      <td>40000.000000</td>\n",
       "      <td>40000.000000</td>\n",
       "      <td>40000.000000</td>\n",
       "      <td>34890.000000</td>\n",
       "      <td>...</td>\n",
       "      <td>29309.000000</td>\n",
       "      <td>40000.000000</td>\n",
       "      <td>34741.000000</td>\n",
       "      <td>37565.000000</td>\n",
       "      <td>37660.000000</td>\n",
       "      <td>27396.000000</td>\n",
       "      <td>33362.000000</td>\n",
       "      <td>40000.000000</td>\n",
       "      <td>40000.000000</td>\n",
       "      <td>40000.000000</td>\n",
       "    </tr>\n",
       "    <tr>\n",
       "      <th>mean</th>\n",
       "      <td>0.145075</td>\n",
       "      <td>2.999958</td>\n",
       "      <td>20.004865</td>\n",
       "      <td>0.002950</td>\n",
       "      <td>0.005396</td>\n",
       "      <td>0.007234</td>\n",
       "      <td>0.004371</td>\n",
       "      <td>2.722334</td>\n",
       "      <td>0.490339</td>\n",
       "      <td>100.008988</td>\n",
       "      <td>...</td>\n",
       "      <td>10.767838</td>\n",
       "      <td>3.000166</td>\n",
       "      <td>0.001636</td>\n",
       "      <td>4.002896</td>\n",
       "      <td>3.969385</td>\n",
       "      <td>0.031886</td>\n",
       "      <td>10.525530</td>\n",
       "      <td>10.002814</td>\n",
       "      <td>0.497650</td>\n",
       "      <td>100.024743</td>\n",
       "    </tr>\n",
       "    <tr>\n",
       "      <th>std</th>\n",
       "      <td>0.352181</td>\n",
       "      <td>1.994490</td>\n",
       "      <td>1.604291</td>\n",
       "      <td>1.462185</td>\n",
       "      <td>1.297952</td>\n",
       "      <td>1.358551</td>\n",
       "      <td>1.447223</td>\n",
       "      <td>1.966828</td>\n",
       "      <td>1.029863</td>\n",
       "      <td>13.343010</td>\n",
       "      <td>...</td>\n",
       "      <td>3.732763</td>\n",
       "      <td>1.164411</td>\n",
       "      <td>1.468790</td>\n",
       "      <td>3.017420</td>\n",
       "      <td>1.473939</td>\n",
       "      <td>1.823091</td>\n",
       "      <td>1.437581</td>\n",
       "      <td>1.986984</td>\n",
       "      <td>0.500001</td>\n",
       "      <td>5.247514</td>\n",
       "    </tr>\n",
       "    <tr>\n",
       "      <th>min</th>\n",
       "      <td>0.000000</td>\n",
       "      <td>-3.648431</td>\n",
       "      <td>13.714945</td>\n",
       "      <td>-5.137161</td>\n",
       "      <td>-5.616412</td>\n",
       "      <td>-6.113153</td>\n",
       "      <td>-6.376810</td>\n",
       "      <td>-3.143438</td>\n",
       "      <td>-3.538129</td>\n",
       "      <td>50.526543</td>\n",
       "      <td>...</td>\n",
       "      <td>6.106024</td>\n",
       "      <td>-2.173310</td>\n",
       "      <td>-6.328126</td>\n",
       "      <td>-3.384399</td>\n",
       "      <td>-1.663063</td>\n",
       "      <td>-6.885150</td>\n",
       "      <td>8.210456</td>\n",
       "      <td>1.911272</td>\n",
       "      <td>0.000000</td>\n",
       "      <td>78.340735</td>\n",
       "    </tr>\n",
       "    <tr>\n",
       "      <th>25%</th>\n",
       "      <td>0.000000</td>\n",
       "      <td>1.592714</td>\n",
       "      <td>18.921388</td>\n",
       "      <td>-1.026798</td>\n",
       "      <td>-0.872354</td>\n",
       "      <td>-0.909831</td>\n",
       "      <td>-0.971167</td>\n",
       "      <td>1.340450</td>\n",
       "      <td>-0.207833</td>\n",
       "      <td>91.056682</td>\n",
       "      <td>...</td>\n",
       "      <td>7.927605</td>\n",
       "      <td>2.211125</td>\n",
       "      <td>-0.982679</td>\n",
       "      <td>1.610899</td>\n",
       "      <td>2.943758</td>\n",
       "      <td>-1.190682</td>\n",
       "      <td>9.397548</td>\n",
       "      <td>8.665103</td>\n",
       "      <td>0.000000</td>\n",
       "      <td>96.516856</td>\n",
       "    </tr>\n",
       "    <tr>\n",
       "      <th>50%</th>\n",
       "      <td>0.000000</td>\n",
       "      <td>2.875892</td>\n",
       "      <td>20.005944</td>\n",
       "      <td>0.002263</td>\n",
       "      <td>0.008822</td>\n",
       "      <td>0.007335</td>\n",
       "      <td>0.002226</td>\n",
       "      <td>2.498876</td>\n",
       "      <td>0.486926</td>\n",
       "      <td>100.020965</td>\n",
       "      <td>...</td>\n",
       "      <td>9.931831</td>\n",
       "      <td>2.998776</td>\n",
       "      <td>0.005664</td>\n",
       "      <td>4.099763</td>\n",
       "      <td>3.912526</td>\n",
       "      <td>0.001523</td>\n",
       "      <td>10.358355</td>\n",
       "      <td>9.994318</td>\n",
       "      <td>0.000000</td>\n",
       "      <td>100.024977</td>\n",
       "    </tr>\n",
       "    <tr>\n",
       "      <th>75%</th>\n",
       "      <td>0.000000</td>\n",
       "      <td>4.270295</td>\n",
       "      <td>21.083465</td>\n",
       "      <td>1.043354</td>\n",
       "      <td>0.892467</td>\n",
       "      <td>0.926222</td>\n",
       "      <td>0.985023</td>\n",
       "      <td>3.827712</td>\n",
       "      <td>1.182994</td>\n",
       "      <td>109.025025</td>\n",
       "      <td>...</td>\n",
       "      <td>12.710543</td>\n",
       "      <td>3.786751</td>\n",
       "      <td>0.989632</td>\n",
       "      <td>6.113157</td>\n",
       "      <td>4.930563</td>\n",
       "      <td>1.248742</td>\n",
       "      <td>11.448559</td>\n",
       "      <td>11.342574</td>\n",
       "      <td>1.000000</td>\n",
       "      <td>103.558762</td>\n",
       "    </tr>\n",
       "    <tr>\n",
       "      <th>max</th>\n",
       "      <td>1.000000</td>\n",
       "      <td>13.837591</td>\n",
       "      <td>27.086468</td>\n",
       "      <td>5.150153</td>\n",
       "      <td>5.698128</td>\n",
       "      <td>5.639372</td>\n",
       "      <td>5.869889</td>\n",
       "      <td>18.006669</td>\n",
       "      <td>4.724186</td>\n",
       "      <td>148.784484</td>\n",
       "      <td>...</td>\n",
       "      <td>38.566041</td>\n",
       "      <td>7.130058</td>\n",
       "      <td>6.868747</td>\n",
       "      <td>16.734658</td>\n",
       "      <td>11.669024</td>\n",
       "      <td>7.631773</td>\n",
       "      <td>18.725468</td>\n",
       "      <td>17.861580</td>\n",
       "      <td>1.000000</td>\n",
       "      <td>122.406809</td>\n",
       "    </tr>\n",
       "  </tbody>\n",
       "</table>\n",
       "<p>8 rows × 89 columns</p>\n",
       "</div>"
      ],
      "text/plain": [
       "                  y            x1            x2            x4            x5  \\\n",
       "count  40000.000000  40000.000000  40000.000000  40000.000000  37572.000000   \n",
       "mean       0.145075      2.999958     20.004865      0.002950      0.005396   \n",
       "std        0.352181      1.994490      1.604291      1.462185      1.297952   \n",
       "min        0.000000     -3.648431     13.714945     -5.137161     -5.616412   \n",
       "25%        0.000000      1.592714     18.921388     -1.026798     -0.872354   \n",
       "50%        0.000000      2.875892     20.005944      0.002263      0.008822   \n",
       "75%        0.000000      4.270295     21.083465      1.043354      0.892467   \n",
       "max        1.000000     13.837591     27.086468      5.150153      5.698128   \n",
       "\n",
       "                 x6            x8            x9           x10           x11  \\\n",
       "count  40000.000000  40000.000000  40000.000000  40000.000000  34890.000000   \n",
       "mean       0.007234      0.004371      2.722334      0.490339    100.008988   \n",
       "std        1.358551      1.447223      1.966828      1.029863     13.343010   \n",
       "min       -6.113153     -6.376810     -3.143438     -3.538129     50.526543   \n",
       "25%       -0.909831     -0.971167      1.340450     -0.207833     91.056682   \n",
       "50%        0.007335      0.002226      2.498876      0.486926    100.020965   \n",
       "75%        0.926222      0.985023      3.827712      1.182994    109.025025   \n",
       "max        5.639372      5.869889     18.006669      4.724186    148.784484   \n",
       "\n",
       "       ...           x89           x90           x91           x92  \\\n",
       "count  ...  29309.000000  40000.000000  34741.000000  37565.000000   \n",
       "mean   ...     10.767838      3.000166      0.001636      4.002896   \n",
       "std    ...      3.732763      1.164411      1.468790      3.017420   \n",
       "min    ...      6.106024     -2.173310     -6.328126     -3.384399   \n",
       "25%    ...      7.927605      2.211125     -0.982679      1.610899   \n",
       "50%    ...      9.931831      2.998776      0.005664      4.099763   \n",
       "75%    ...     12.710543      3.786751      0.989632      6.113157   \n",
       "max    ...     38.566041      7.130058      6.868747     16.734658   \n",
       "\n",
       "                x94           x95           x96           x97           x98  \\\n",
       "count  37660.000000  27396.000000  33362.000000  40000.000000  40000.000000   \n",
       "mean       3.969385      0.031886     10.525530     10.002814      0.497650   \n",
       "std        1.473939      1.823091      1.437581      1.986984      0.500001   \n",
       "min       -1.663063     -6.885150      8.210456      1.911272      0.000000   \n",
       "25%        2.943758     -1.190682      9.397548      8.665103      0.000000   \n",
       "50%        3.912526      0.001523     10.358355      9.994318      0.000000   \n",
       "75%        4.930563      1.248742     11.448559     11.342574      1.000000   \n",
       "max       11.669024      7.631773     18.725468     17.861580      1.000000   \n",
       "\n",
       "               x100  \n",
       "count  40000.000000  \n",
       "mean     100.024743  \n",
       "std        5.247514  \n",
       "min       78.340735  \n",
       "25%       96.516856  \n",
       "50%      100.024977  \n",
       "75%      103.558762  \n",
       "max      122.406809  \n",
       "\n",
       "[8 rows x 89 columns]"
      ]
     },
     "execution_count": 4,
     "metadata": {},
     "output_type": "execute_result"
    }
   ],
   "source": [
    "data_tr.describe()"
   ]
  },
  {
   "cell_type": "code",
   "execution_count": 5,
   "id": "a9392aa4",
   "metadata": {},
   "outputs": [
    {
     "data": {
      "text/plain": [
       "(y           0\n",
       " x1          0\n",
       " x2          0\n",
       " x3          0\n",
       " x4          0\n",
       "         ...  \n",
       " x96      6638\n",
       " x97         0\n",
       " x98         0\n",
       " x99     12836\n",
       " x100        0\n",
       " Length: 101, dtype: int64,\n",
       " x1         0\n",
       " x2         0\n",
       " x3         0\n",
       " x4         0\n",
       " x5       602\n",
       "         ... \n",
       " x96     1628\n",
       " x97        0\n",
       " x98        0\n",
       " x99     3300\n",
       " x100       0\n",
       " Length: 100, dtype: int64)"
      ]
     },
     "execution_count": 5,
     "metadata": {},
     "output_type": "execute_result"
    }
   ],
   "source": [
    "data_tr.isnull().sum(), data_te.isnull().sum() # some data is missing"
   ]
  },
  {
   "cell_type": "code",
   "execution_count": 6,
   "id": "d8141ec7",
   "metadata": {},
   "outputs": [
    {
     "data": {
      "text/plain": [
       "0    34197\n",
       "1     5803\n",
       "Name: y, dtype: int64"
      ]
     },
     "execution_count": 6,
     "metadata": {},
     "output_type": "execute_result"
    }
   ],
   "source": [
    "data_tr.y.value_counts() # this is a binary classification problem"
   ]
  },
  {
   "cell_type": "code",
   "execution_count": 7,
   "id": "9e4cf1fd",
   "metadata": {},
   "outputs": [
    {
     "data": {
      "text/plain": [
       "((40000, 101), (10000, 100))"
      ]
     },
     "execution_count": 7,
     "metadata": {},
     "output_type": "execute_result"
    }
   ],
   "source": [
    "data_tr.shape, data_te.shape"
   ]
  },
  {
   "cell_type": "code",
   "execution_count": 8,
   "id": "1b391d1e",
   "metadata": {},
   "outputs": [
    {
     "name": "stdout",
     "output_type": "stream",
     "text": [
      "The positive class frequency is 0.1%.\n"
     ]
    }
   ],
   "source": [
    "print(f\"The positive class frequency is {round(data_tr.y.sum()/data_tr.shape[0],1)}%.\")"
   ]
  },
  {
   "cell_type": "markdown",
   "id": "f06cc955",
   "metadata": {},
   "source": [
    "There are no column names so it isn't clear what some of this data represents. There is missing data and it isn't clear if it is MNAR or missing completely at random. To be safe, a dummy variable will be created to account for missingness. For missing values where the feature column is a float, median imputation will be used to fill in the missing data. Given the massive class imbalance, it's important to check the calibration of the model's probability estimates. It isn't clear if there is any temporal dependence in the data. If there is, it is important to use time series cross validation to respect the order of the data over time. Using k-fold cross validation and shuffling the data could lead to data leakage and biased performance estimates."
   ]
  },
  {
   "cell_type": "markdown",
   "id": "cfc86d2b",
   "metadata": {},
   "source": [
    "#### Data Preprocess"
   ]
  },
  {
   "cell_type": "code",
   "execution_count": 9,
   "id": "7136b005",
   "metadata": {},
   "outputs": [
    {
     "data": {
      "text/plain": [
       "<bound method NDFrame.head of              x3        x7                 x19     x24  x31        x33  \\\n",
       "0           Wed   0.0062%  $-908.650758424405  female   no   Colorado   \n",
       "1        Friday   0.0064%   $-1864.9622875143    male   no  Tennessee   \n",
       "2      Thursday   -8e-04%  $-543.187402955527    male   no      Texas   \n",
       "3       Tuesday  -0.0057%  $-182.626380634258    male   no  Minnesota   \n",
       "4        Sunday   0.0109%   $967.007090837503    male  yes   New York   \n",
       "...         ...       ...                 ...     ...  ...        ...   \n",
       "39995       Sun  -0.0085%   $3750.51991954505  female   no        NaN   \n",
       "39996  Thursday   0.0077%   $448.867118077561    male  yes   Illinois   \n",
       "39997    Monday  -0.0216%    $834.95775080472    male  yes        NaN   \n",
       "39998   Tuesday    1e-04%  $-48.1031003332715    male   no       Ohio   \n",
       "39999  Thursday   0.0034%   $96.0017151741518     NaN   no    Florida   \n",
       "\n",
       "              x39        x60          x65       x77  x93  x99  \n",
       "0      5-10 miles     August      farmers  mercedes   no  yes  \n",
       "1      5-10 miles      April     allstate  mercedes   no  yes  \n",
       "2      5-10 miles  September        geico    subaru   no  yes  \n",
       "3      5-10 miles  September        geico    nissan   no  yes  \n",
       "4      5-10 miles    January        geico    toyota  yes  yes  \n",
       "...           ...        ...          ...       ...  ...  ...  \n",
       "39995  5-10 miles       July      farmers       NaN   no  yes  \n",
       "39996  5-10 miles       July  progressive      ford   no  yes  \n",
       "39997  5-10 miles     August        geico      ford   no  yes  \n",
       "39998  5-10 miles   December      farmers       NaN   no  yes  \n",
       "39999  5-10 miles    January  progressive    toyota   no  NaN  \n",
       "\n",
       "[40000 rows x 12 columns]>"
      ]
     },
     "execution_count": 9,
     "metadata": {},
     "output_type": "execute_result"
    }
   ],
   "source": [
    "CAT_COLS = data_tr.select_dtypes(include = 'object').columns # categorical columns\n",
    "data_tr[CAT_COLS].head"
   ]
  },
  {
   "cell_type": "markdown",
   "id": "51907558",
   "metadata": {},
   "source": [
    "Some of these columns with `dtype` of `object` should actually be floating point e.g. the column with percentages or the column with dollar amounts. Also, check if the day of week, month, state, and vehicle make columns have homogenous formatting. For example, it would be an issue if there are instances of 'ford' and 'Ford'."
   ]
  },
  {
   "cell_type": "code",
   "execution_count": 10,
   "id": "99e50ddd",
   "metadata": {},
   "outputs": [],
   "source": [
    "data_tr.loc[:,'x7'] = data_tr.x7.str.rstrip('%').astype('float') # convert column x7 to floating point\n",
    "data_te.loc[:,'x7'] = data_te.x7.str.rstrip('%').astype('float')\n",
    "data_tr.loc[:,'x19'] = data_tr.x19.str.lstrip('$').astype('float') # convert column x19 to floating point\n",
    "data_te.loc[:,'x19'] = data_te.x19.str.lstrip('$').astype('float')"
   ]
  },
  {
   "cell_type": "code",
   "execution_count": 11,
   "id": "720cbfe9",
   "metadata": {},
   "outputs": [
    {
     "data": {
      "text/plain": [
       "Wednesday    4930\n",
       "Monday       4144\n",
       "Friday       3975\n",
       "Tuesday      3915\n",
       "Sunday       3610\n",
       "Saturday     3596\n",
       "Tue          2948\n",
       "Thursday     2791\n",
       "Mon          2200\n",
       "Wed          2043\n",
       "Sat          1787\n",
       "Thur         1643\n",
       "Fri          1620\n",
       "Sun           798\n",
       "Name: x3, dtype: int64"
      ]
     },
     "execution_count": 11,
     "metadata": {},
     "output_type": "execute_result"
    }
   ],
   "source": [
    "data_tr.x3.value_counts() # clearly we need to fix this formatting for x3"
   ]
  },
  {
   "cell_type": "code",
   "execution_count": 12,
   "id": "511a41cd",
   "metadata": {},
   "outputs": [],
   "source": [
    "def fix_days(df: pd.DataFrame) -> pd.DataFrame:\n",
    "    \"\"\"\n",
    "    Create homogenous formatting for the day of\n",
    "    week categorical variable in column x3.\n",
    "    \n",
    "    Args:\n",
    "        df: pandas dataframe with column x3.\n",
    "    \n",
    "    Returns:\n",
    "        pandas dataframe with column x3 modified\n",
    "        to have homogenous day of week formatting.\n",
    "    \"\"\"\n",
    "    m = {\"Mon\": \"Monday\",\n",
    "         \"Tue\": \"Tuesday\",\n",
    "         \"Wed\": \"Wednesday\",\n",
    "         \"Thur\": \"Thursday\",\n",
    "         \"Fri\": \"Friday\",\n",
    "         \"Sat\": \"Saturday\",\n",
    "         \"Sun\": \"Sunday\"} # hashmap of formatting\n",
    "    \n",
    "    for i in range(df.shape[0]):\n",
    "        if m.get(df.x3[i]) is not None:\n",
    "            df.loc[i,'x3'] = m[df.x3[i]] # replace\n",
    "        else:\n",
    "            continue\n",
    "\n",
    "    return df"
   ]
  },
  {
   "cell_type": "code",
   "execution_count": 13,
   "id": "c8042ba7",
   "metadata": {},
   "outputs": [],
   "source": [
    "data_tr = fix_days(df = data_tr)\n",
    "data_te = fix_days(df = data_te)"
   ]
  },
  {
   "cell_type": "code",
   "execution_count": 14,
   "id": "9e9e5882",
   "metadata": {},
   "outputs": [
    {
     "data": {
      "text/plain": [
       "Wednesday    6973\n",
       "Tuesday      6863\n",
       "Monday       6344\n",
       "Friday       5595\n",
       "Saturday     5383\n",
       "Thursday     4434\n",
       "Sunday       4408\n",
       "Name: x3, dtype: int64"
      ]
     },
     "execution_count": 14,
     "metadata": {},
     "output_type": "execute_result"
    }
   ],
   "source": [
    "data_tr.x3.value_counts() # fixed"
   ]
  },
  {
   "cell_type": "code",
   "execution_count": 15,
   "id": "707fd7b1",
   "metadata": {},
   "outputs": [
    {
     "data": {
      "text/plain": [
       "female    18158\n",
       "male      17986\n",
       "Name: x24, dtype: int64"
      ]
     },
     "execution_count": 15,
     "metadata": {},
     "output_type": "execute_result"
    }
   ],
   "source": [
    "data_tr.x24.value_counts() # looks good"
   ]
  },
  {
   "cell_type": "code",
   "execution_count": 16,
   "id": "5501093b",
   "metadata": {},
   "outputs": [
    {
     "data": {
      "text/plain": [
       "no     34022\n",
       "yes     5978\n",
       "Name: x31, dtype: int64"
      ]
     },
     "execution_count": 16,
     "metadata": {},
     "output_type": "execute_result"
    }
   ],
   "source": [
    "data_tr.x31.value_counts() # looks good"
   ]
  },
  {
   "cell_type": "code",
   "execution_count": 17,
   "id": "01510431",
   "metadata": {},
   "outputs": [
    {
     "name": "stdout",
     "output_type": "stream",
     "text": [
      "There are 51 states in column x33.\n"
     ]
    }
   ],
   "source": [
    "print(f\"There are {data_tr.x33.value_counts().shape[0]} states in column x33.\") # looks good"
   ]
  },
  {
   "cell_type": "code",
   "execution_count": 18,
   "id": "82cadf31",
   "metadata": {},
   "outputs": [
    {
     "data": {
      "text/plain": [
       "5-10 miles    40000\n",
       "Name: x39, dtype: int64"
      ]
     },
     "execution_count": 18,
     "metadata": {},
     "output_type": "execute_result"
    }
   ],
   "source": [
    "data_tr.x39.value_counts() # only one category and no missing values. since this adds no information -> DROP it"
   ]
  },
  {
   "cell_type": "code",
   "execution_count": 19,
   "id": "06f14cac",
   "metadata": {},
   "outputs": [
    {
     "name": "stdout",
     "output_type": "stream",
     "text": [
      "There are 12 months in column x60.\n"
     ]
    }
   ],
   "source": [
    "print(f\"There are {data_tr.x60.value_counts().shape[0]} months in column x60.\")"
   ]
  },
  {
   "cell_type": "code",
   "execution_count": 20,
   "id": "9254d16e",
   "metadata": {},
   "outputs": [
    {
     "data": {
      "text/plain": [
       "progressive    10877\n",
       "allstate       10859\n",
       "esurance        7144\n",
       "farmers         5600\n",
       "geico           5520\n",
       "Name: x65, dtype: int64"
      ]
     },
     "execution_count": 20,
     "metadata": {},
     "output_type": "execute_result"
    }
   ],
   "source": [
    "data_tr.x65.value_counts() # looks good"
   ]
  },
  {
   "cell_type": "code",
   "execution_count": 21,
   "id": "55268390",
   "metadata": {},
   "outputs": [
    {
     "data": {
      "text/plain": [
       "ford         9005\n",
       "subaru       5047\n",
       "chevrolet    5011\n",
       "mercedes     4494\n",
       "toyota       3555\n",
       "nissan       2575\n",
       "buick        1056\n",
       "Name: x77, dtype: int64"
      ]
     },
     "execution_count": 21,
     "metadata": {},
     "output_type": "execute_result"
    }
   ],
   "source": [
    "data_tr.x77.value_counts() # looks good"
   ]
  },
  {
   "cell_type": "code",
   "execution_count": 22,
   "id": "81cbfdb0",
   "metadata": {},
   "outputs": [
    {
     "data": {
      "text/plain": [
       "no     35506\n",
       "yes     4494\n",
       "Name: x93, dtype: int64"
      ]
     },
     "execution_count": 22,
     "metadata": {},
     "output_type": "execute_result"
    }
   ],
   "source": [
    "data_tr.x93.value_counts()"
   ]
  },
  {
   "cell_type": "code",
   "execution_count": 23,
   "id": "feca5f60",
   "metadata": {},
   "outputs": [
    {
     "data": {
      "text/plain": [
       "yes    27164\n",
       "Name: x99, dtype: int64"
      ]
     },
     "execution_count": 23,
     "metadata": {},
     "output_type": "execute_result"
    }
   ],
   "source": [
    "data_tr.x99.value_counts() # looks good since there are missing values, which could be MNAR"
   ]
  },
  {
   "cell_type": "markdown",
   "id": "1302aa08",
   "metadata": {},
   "source": [
    "Split into training and validation sets. The validation set is for plotting the calibration curves of the models. The final models used for estimating test set probabilities will use all of the available data for training. Categorical columns are one hot encoded. Columns `x39` adds no information and is dropped from consideration. This could become an issue in production if the feature space grows. Missing floating point values are filled in using median imputation and a dummy variable column is created to account for the missingness incase the data is MNAR."
   ]
  },
  {
   "cell_type": "code",
   "execution_count": 24,
   "id": "cee2b7d1",
   "metadata": {},
   "outputs": [],
   "source": [
    "TARGET_COL = ['y']\n",
    "DROP_COLS = ['x39']\n",
    "data_tr.drop(columns = DROP_COLS, inplace = True)\n",
    "data_te.drop(columns = DROP_COLS, inplace = True)\n",
    "CAT_COLS = data_tr.select_dtypes(include = 'object').columns # categorical columns\n",
    "\n",
    "Xtr = data_tr.drop(columns = TARGET_COL)\n",
    "Xte = data_te\n",
    "Ytr = data_tr[TARGET_COL] # training target\n",
    "\n",
    "Xtr_cat = Xtr[CAT_COLS].copy().fillna(value = 'missing') # replace missing categories\n",
    "Xte_cat = Xte[CAT_COLS].copy().fillna(value = 'missing')\n",
    "enc = OneHotEncoder().fit(Xtr_cat) # fit one hot encoder to categorical columns\n",
    "col_names = enc.get_feature_names_out() # get ohe column names\n",
    "Xtr_cat = enc.transform(Xtr_cat).toarray() # one hot encoding of train data\n",
    "Xte_cat = enc.transform(Xte_cat).toarray() # one hot encodeing of test data\n",
    "\n",
    "Xtr = pd.concat([Xtr.drop(columns = CAT_COLS),\n",
    "                 pd.DataFrame(Xtr_cat, columns = col_names)],\n",
    "                axis = 1)\n",
    "\n",
    "Xte = pd.concat([Xte.drop(columns = CAT_COLS),\n",
    "                 pd.DataFrame(Xte_cat, columns = col_names)],\n",
    "                axis = 1)\n",
    "\n",
    "imp = SimpleImputer(missing_values = np.nan, \n",
    "                    strategy = 'median',\n",
    "                    add_indicator = True) # use median imputation for missing data\n",
    "\n",
    "imp.fit(Xtr)\n",
    "Xtr = imp.transform(Xtr)\n",
    "Xte = imp.transform(Xte)\n",
    "column_names = imp.get_feature_names_out()\n",
    "\n",
    "skf = StratifiedKFold(n_splits = 10) # given class imbalance, use stratified split\n",
    "\n",
    "# DO NOT SHUFFLE data, there may be a time component that isn't obvious\n",
    "\n",
    "Xtr, Xva, Ytr, Yva = train_test_split(Xtr, \n",
    "                                      Ytr, \n",
    "                                      test_size = 0.2,\n",
    "                                      stratify = Ytr) # validation set for calibration plots\n",
    "\n",
    "del Xtr_cat, Xte_cat, data_tr, data_te # clear up memory"
   ]
  },
  {
   "cell_type": "markdown",
   "id": "21490719",
   "metadata": {},
   "source": [
    "#### Baseline Logistic Regression Model\n",
    "Use a logistic regression with an L1 (lasso) penalty. As an aside, using an L2 penalty is preferable when the inputs are sparse. In many cases an ML model is overkill so it is good to have a simple baseline model for performance comparison. Stratified k-fold cross validation is used for model hyper parameter selection. Given the class imbalance, it is important to stratify on the binary target class so that the positive class is equally represented across the cv folds."
   ]
  },
  {
   "cell_type": "code",
   "execution_count": 25,
   "id": "add5f5dd",
   "metadata": {},
   "outputs": [
    {
     "data": {
      "text/html": [
       "<style>#sk-container-id-1 {color: black;background-color: white;}#sk-container-id-1 pre{padding: 0;}#sk-container-id-1 div.sk-toggleable {background-color: white;}#sk-container-id-1 label.sk-toggleable__label {cursor: pointer;display: block;width: 100%;margin-bottom: 0;padding: 0.3em;box-sizing: border-box;text-align: center;}#sk-container-id-1 label.sk-toggleable__label-arrow:before {content: \"▸\";float: left;margin-right: 0.25em;color: #696969;}#sk-container-id-1 label.sk-toggleable__label-arrow:hover:before {color: black;}#sk-container-id-1 div.sk-estimator:hover label.sk-toggleable__label-arrow:before {color: black;}#sk-container-id-1 div.sk-toggleable__content {max-height: 0;max-width: 0;overflow: hidden;text-align: left;background-color: #f0f8ff;}#sk-container-id-1 div.sk-toggleable__content pre {margin: 0.2em;color: black;border-radius: 0.25em;background-color: #f0f8ff;}#sk-container-id-1 input.sk-toggleable__control:checked~div.sk-toggleable__content {max-height: 200px;max-width: 100%;overflow: auto;}#sk-container-id-1 input.sk-toggleable__control:checked~label.sk-toggleable__label-arrow:before {content: \"▾\";}#sk-container-id-1 div.sk-estimator input.sk-toggleable__control:checked~label.sk-toggleable__label {background-color: #d4ebff;}#sk-container-id-1 div.sk-label input.sk-toggleable__control:checked~label.sk-toggleable__label {background-color: #d4ebff;}#sk-container-id-1 input.sk-hidden--visually {border: 0;clip: rect(1px 1px 1px 1px);clip: rect(1px, 1px, 1px, 1px);height: 1px;margin: -1px;overflow: hidden;padding: 0;position: absolute;width: 1px;}#sk-container-id-1 div.sk-estimator {font-family: monospace;background-color: #f0f8ff;border: 1px dotted black;border-radius: 0.25em;box-sizing: border-box;margin-bottom: 0.5em;}#sk-container-id-1 div.sk-estimator:hover {background-color: #d4ebff;}#sk-container-id-1 div.sk-parallel-item::after {content: \"\";width: 100%;border-bottom: 1px solid gray;flex-grow: 1;}#sk-container-id-1 div.sk-label:hover label.sk-toggleable__label {background-color: #d4ebff;}#sk-container-id-1 div.sk-serial::before {content: \"\";position: absolute;border-left: 1px solid gray;box-sizing: border-box;top: 0;bottom: 0;left: 50%;z-index: 0;}#sk-container-id-1 div.sk-serial {display: flex;flex-direction: column;align-items: center;background-color: white;padding-right: 0.2em;padding-left: 0.2em;position: relative;}#sk-container-id-1 div.sk-item {position: relative;z-index: 1;}#sk-container-id-1 div.sk-parallel {display: flex;align-items: stretch;justify-content: center;background-color: white;position: relative;}#sk-container-id-1 div.sk-item::before, #sk-container-id-1 div.sk-parallel-item::before {content: \"\";position: absolute;border-left: 1px solid gray;box-sizing: border-box;top: 0;bottom: 0;left: 50%;z-index: -1;}#sk-container-id-1 div.sk-parallel-item {display: flex;flex-direction: column;z-index: 1;position: relative;background-color: white;}#sk-container-id-1 div.sk-parallel-item:first-child::after {align-self: flex-end;width: 50%;}#sk-container-id-1 div.sk-parallel-item:last-child::after {align-self: flex-start;width: 50%;}#sk-container-id-1 div.sk-parallel-item:only-child::after {width: 0;}#sk-container-id-1 div.sk-dashed-wrapped {border: 1px dashed gray;margin: 0 0.4em 0.5em 0.4em;box-sizing: border-box;padding-bottom: 0.4em;background-color: white;}#sk-container-id-1 div.sk-label label {font-family: monospace;font-weight: bold;display: inline-block;line-height: 1.2em;}#sk-container-id-1 div.sk-label-container {text-align: center;}#sk-container-id-1 div.sk-container {/* jupyter's `normalize.less` sets `[hidden] { display: none; }` but bootstrap.min.css set `[hidden] { display: none !important; }` so we also need the `!important` here to be able to override the default hidden behavior on the sphinx rendered scikit-learn.org. See: https://github.com/scikit-learn/scikit-learn/issues/21755 */display: inline-block !important;position: relative;}#sk-container-id-1 div.sk-text-repr-fallback {display: none;}</style><div id=\"sk-container-id-1\" class=\"sk-top-container\"><div class=\"sk-text-repr-fallback\"><pre>GridSearchCV(cv=&lt;generator object _BaseKFold.split at 0x14782f200&gt;,\n",
       "             estimator=LogisticRegression(max_iter=10000, penalty=&#x27;l1&#x27;,\n",
       "                                          solver=&#x27;liblinear&#x27;),\n",
       "             n_jobs=-1, param_grid={&#x27;C&#x27;: [1000.0, 100.0, 10.0, 1, 0.1]},\n",
       "             scoring=&#x27;neg_log_loss&#x27;)</pre><b>In a Jupyter environment, please rerun this cell to show the HTML representation or trust the notebook. <br />On GitHub, the HTML representation is unable to render, please try loading this page with nbviewer.org.</b></div><div class=\"sk-container\" hidden><div class=\"sk-item sk-dashed-wrapped\"><div class=\"sk-label-container\"><div class=\"sk-label sk-toggleable\"><input class=\"sk-toggleable__control sk-hidden--visually\" id=\"sk-estimator-id-1\" type=\"checkbox\" ><label for=\"sk-estimator-id-1\" class=\"sk-toggleable__label sk-toggleable__label-arrow\">GridSearchCV</label><div class=\"sk-toggleable__content\"><pre>GridSearchCV(cv=&lt;generator object _BaseKFold.split at 0x14782f200&gt;,\n",
       "             estimator=LogisticRegression(max_iter=10000, penalty=&#x27;l1&#x27;,\n",
       "                                          solver=&#x27;liblinear&#x27;),\n",
       "             n_jobs=-1, param_grid={&#x27;C&#x27;: [1000.0, 100.0, 10.0, 1, 0.1]},\n",
       "             scoring=&#x27;neg_log_loss&#x27;)</pre></div></div></div><div class=\"sk-parallel\"><div class=\"sk-parallel-item\"><div class=\"sk-item\"><div class=\"sk-label-container\"><div class=\"sk-label sk-toggleable\"><input class=\"sk-toggleable__control sk-hidden--visually\" id=\"sk-estimator-id-2\" type=\"checkbox\" ><label for=\"sk-estimator-id-2\" class=\"sk-toggleable__label sk-toggleable__label-arrow\">estimator: LogisticRegression</label><div class=\"sk-toggleable__content\"><pre>LogisticRegression(max_iter=10000, penalty=&#x27;l1&#x27;, solver=&#x27;liblinear&#x27;)</pre></div></div></div><div class=\"sk-serial\"><div class=\"sk-item\"><div class=\"sk-estimator sk-toggleable\"><input class=\"sk-toggleable__control sk-hidden--visually\" id=\"sk-estimator-id-3\" type=\"checkbox\" ><label for=\"sk-estimator-id-3\" class=\"sk-toggleable__label sk-toggleable__label-arrow\">LogisticRegression</label><div class=\"sk-toggleable__content\"><pre>LogisticRegression(max_iter=10000, penalty=&#x27;l1&#x27;, solver=&#x27;liblinear&#x27;)</pre></div></div></div></div></div></div></div></div></div></div>"
      ],
      "text/plain": [
       "GridSearchCV(cv=<generator object _BaseKFold.split at 0x14782f200>,\n",
       "             estimator=LogisticRegression(max_iter=10000, penalty='l1',\n",
       "                                          solver='liblinear'),\n",
       "             n_jobs=-1, param_grid={'C': [1000.0, 100.0, 10.0, 1, 0.1]},\n",
       "             scoring='neg_log_loss')"
      ]
     },
     "execution_count": 25,
     "metadata": {},
     "output_type": "execute_result"
    }
   ],
   "source": [
    "L1_grid = {'C': [1/.001, 1/.01, 1/.1, 1, 1/10]} # grid of potential inverse L1 penalty parameters\n",
    "\n",
    "reg_model = LogisticRegression(penalty = 'l1',\n",
    "                               solver = 'liblinear',\n",
    "                               max_iter = 10000,\n",
    "                               verbose = 0)\n",
    "\n",
    "gscv = GridSearchCV(reg_model,\n",
    "                    scoring = 'neg_log_loss',\n",
    "                    param_grid = L1_grid,\n",
    "                    n_jobs = -1, # use all cores\n",
    "                    cv = skf.split(Xtr, Ytr)) # stratified k fold split\n",
    "\n",
    "gscv.fit(Xtr, np.array(Ytr).ravel()) # grid search cross validation"
   ]
  },
  {
   "cell_type": "code",
   "execution_count": 26,
   "id": "c992e199",
   "metadata": {},
   "outputs": [
    {
     "data": {
      "text/plain": [
       "-0.3560156401018443"
      ]
     },
     "execution_count": 26,
     "metadata": {},
     "output_type": "execute_result"
    }
   ],
   "source": [
    "gscv.best_score_"
   ]
  },
  {
   "cell_type": "code",
   "execution_count": 27,
   "id": "bfbbd7ef",
   "metadata": {},
   "outputs": [
    {
     "data": {
      "text/plain": [
       "{'C': 1}"
      ]
     },
     "execution_count": 27,
     "metadata": {},
     "output_type": "execute_result"
    }
   ],
   "source": [
    "gscv.best_params_ # best L1 penalty from grid search cross validation"
   ]
  },
  {
   "cell_type": "markdown",
   "id": "71443dca",
   "metadata": {},
   "source": [
    "#### Feature Importances"
   ]
  },
  {
   "cell_type": "code",
   "execution_count": 28,
   "id": "90985e55",
   "metadata": {},
   "outputs": [
    {
     "data": {
      "image/png": "[encoded data removed]",
      "text/plain": [
       "<Figure size 792x504 with 1 Axes>"
      ]
     },
     "metadata": {
      "needs_background": "light"
     },
     "output_type": "display_data"
    }
   ],
   "source": [
    "column_names = imp.get_feature_names_out()\n",
    "fi = abs(gscv.best_estimator_.coef_)[0] # absolute value of coefficient estimates\n",
    "fi = (fi/fi.max())*100.0 # scale by largest value\n",
    "idx = np.argsort(fi)[-10:] # sort by relative importance and subset top 10\n",
    "pos = np.arange(idx.shape[0]) + .5\n",
    "fig = plt.figure()\n",
    "fig.set_size_inches(11,7)\n",
    "ax = fig.add_subplot(1, 1, 1)\n",
    "ax.barh(pos, fi[idx], align = 'center')\n",
    "ax.set_yticks(pos)\n",
    "ax.set_yticklabels(np.array(column_names)[idx], fontsize = 11)\n",
    "ax.set_xlabel('Relative Feature Importance')\n",
    "plt.show()"
   ]
  },
  {
   "cell_type": "code",
   "execution_count": 29,
   "id": "0ad30711",
   "metadata": {},
   "outputs": [],
   "source": [
    "Y_pred = gscv.best_estimator_.predict_proba(Xva)[:,1]\n",
    "cc_y, cc_x = calibration_curve(y_true = Yva, \n",
    "                               y_prob = Y_pred, \n",
    "                               n_bins = 10) # for calibration plot later"
   ]
  },
  {
   "cell_type": "markdown",
   "id": "5d2b3350",
   "metadata": {},
   "source": [
    "Use the optimal L1 hyperparameter from grid search cross validation to train a calibrated classifier that uses Platt scaling. Then use this trained classifier to visualize the learning curves across different data set sizes to help diagnose potential issues from bias or variance."
   ]
  },
  {
   "cell_type": "code",
   "execution_count": 30,
   "id": "1478e9c1",
   "metadata": {},
   "outputs": [],
   "source": [
    "reg_model = LogisticRegression(C = gscv.best_params_['C'], # optimal parameter from grid search cv\n",
    "                               penalty = 'l1',\n",
    "                               solver = 'liblinear',\n",
    "                               max_iter = 10000,\n",
    "                               verbose = 0)\n",
    "\n",
    "reg_model_c = CalibratedClassifierCV(base_estimator = reg_model,\n",
    "                                     method = 'sigmoid', # platt scaling for calibration\n",
    "                                     ensemble = True,\n",
    "                                     n_jobs = -1)\n",
    "\n",
    "train_sizes, train_scores, valid_scores = learning_curve(reg_model_c,\n",
    "                                                         Xtr,\n",
    "                                                         np.array(Ytr).ravel(),\n",
    "                                                         train_sizes = np.linspace(0.2,1,20),\n",
    "                                                         cv = skf.split(Xtr, Ytr),\n",
    "                                                         scoring = make_scorer(average_precision_score))\n",
    "\n",
    "train_scores = [np.mean(m) for m in train_scores] # average precision across the cv folds\n",
    "valid_scores = [np.mean(m) for m in valid_scores]"
   ]
  },
  {
   "cell_type": "markdown",
   "id": "835f837f",
   "metadata": {},
   "source": [
    "#### Visualize Baseline Learning Curves"
   ]
  },
  {
   "cell_type": "code",
   "execution_count": 31,
   "id": "1392f6bf",
   "metadata": {},
   "outputs": [
    {
     "data": {
      "image/png": "[encoded data removed]",
      "text/plain": [
       "<Figure size 432x288 with 1 Axes>"
      ]
     },
     "metadata": {
      "needs_background": "light"
     },
     "output_type": "display_data"
    }
   ],
   "source": [
    "plt.plot(train_sizes, train_scores, color = '#2164F3') # training precision for baseline model\n",
    "plt.plot(train_sizes, valid_scores, color = '#FF6600') # validation precision for baseline model\n",
    "plt.title(f'Baseline Regression Precision Learning Curves')\n",
    "plt.ylabel(f'average precision')\n",
    "plt.xlabel('training set size')\n",
    "plt.legend(['train', 'valid'],\n",
    "           loc = 'lower right')\n",
    "plt.show()"
   ]
  },
  {
   "cell_type": "markdown",
   "id": "272488bf",
   "metadata": {},
   "source": [
    "The variance gap doesn't seem too large but the average precision is really low. It seems like gathering more data would improve the performance slightly as the learning curves have not flattened out as the training set size is increased."
   ]
  },
  {
   "cell_type": "code",
   "execution_count": 32,
   "id": "df57fdf1",
   "metadata": {},
   "outputs": [],
   "source": [
    "reg_model_c = CalibratedClassifierCV(base_estimator = reg_model,\n",
    "                                     method = 'sigmoid', # platt scaling for calibration\n",
    "                                     ensemble = True,\n",
    "                                     n_jobs = -1,\n",
    "                                     cv = skf.split(Xtr, Ytr))\n",
    "reg_model_c.fit(Xtr, np.array(Ytr).ravel()) # calibrated baseline logistic regression with lasso penalty\n",
    "\n",
    "Y_pred_c = reg_model_c.predict_proba(Xva)[:,1]\n",
    "cc_cal_y, cc_cal_x = calibration_curve(y_true = Yva, \n",
    "                                       y_prob = Y_pred_c,\n",
    "                                       n_bins = 10) # for calibration plot further below"
   ]
  },
  {
   "cell_type": "markdown",
   "id": "563cef74",
   "metadata": {},
   "source": [
    "#### Boosted Trees Classifier ML Model\n",
    "Train a boosted trees classifier for comparison. The boosting algorithm could reduce bias and improve the expected performance."
   ]
  },
  {
   "cell_type": "code",
   "execution_count": 33,
   "id": "78dfc257",
   "metadata": {},
   "outputs": [
    {
     "data": {
      "text/html": [
       "<style>#sk-container-id-2 {color: black;background-color: white;}#sk-container-id-2 pre{padding: 0;}#sk-container-id-2 div.sk-toggleable {background-color: white;}#sk-container-id-2 label.sk-toggleable__label {cursor: pointer;display: block;width: 100%;margin-bottom: 0;padding: 0.3em;box-sizing: border-box;text-align: center;}#sk-container-id-2 label.sk-toggleable__label-arrow:before {content: \"▸\";float: left;margin-right: 0.25em;color: #696969;}#sk-container-id-2 label.sk-toggleable__label-arrow:hover:before {color: black;}#sk-container-id-2 div.sk-estimator:hover label.sk-toggleable__label-arrow:before {color: black;}#sk-container-id-2 div.sk-toggleable__content {max-height: 0;max-width: 0;overflow: hidden;text-align: left;background-color: #f0f8ff;}#sk-container-id-2 div.sk-toggleable__content pre {margin: 0.2em;color: black;border-radius: 0.25em;background-color: #f0f8ff;}#sk-container-id-2 input.sk-toggleable__control:checked~div.sk-toggleable__content {max-height: 200px;max-width: 100%;overflow: auto;}#sk-container-id-2 input.sk-toggleable__control:checked~label.sk-toggleable__label-arrow:before {content: \"▾\";}#sk-container-id-2 div.sk-estimator input.sk-toggleable__control:checked~label.sk-toggleable__label {background-color: #d4ebff;}#sk-container-id-2 div.sk-label input.sk-toggleable__control:checked~label.sk-toggleable__label {background-color: #d4ebff;}#sk-container-id-2 input.sk-hidden--visually {border: 0;clip: rect(1px 1px 1px 1px);clip: rect(1px, 1px, 1px, 1px);height: 1px;margin: -1px;overflow: hidden;padding: 0;position: absolute;width: 1px;}#sk-container-id-2 div.sk-estimator {font-family: monospace;background-color: #f0f8ff;border: 1px dotted black;border-radius: 0.25em;box-sizing: border-box;margin-bottom: 0.5em;}#sk-container-id-2 div.sk-estimator:hover {background-color: #d4ebff;}#sk-container-id-2 div.sk-parallel-item::after {content: \"\";width: 100%;border-bottom: 1px solid gray;flex-grow: 1;}#sk-container-id-2 div.sk-label:hover label.sk-toggleable__label {background-color: #d4ebff;}#sk-container-id-2 div.sk-serial::before {content: \"\";position: absolute;border-left: 1px solid gray;box-sizing: border-box;top: 0;bottom: 0;left: 50%;z-index: 0;}#sk-container-id-2 div.sk-serial {display: flex;flex-direction: column;align-items: center;background-color: white;padding-right: 0.2em;padding-left: 0.2em;position: relative;}#sk-container-id-2 div.sk-item {position: relative;z-index: 1;}#sk-container-id-2 div.sk-parallel {display: flex;align-items: stretch;justify-content: center;background-color: white;position: relative;}#sk-container-id-2 div.sk-item::before, #sk-container-id-2 div.sk-parallel-item::before {content: \"\";position: absolute;border-left: 1px solid gray;box-sizing: border-box;top: 0;bottom: 0;left: 50%;z-index: -1;}#sk-container-id-2 div.sk-parallel-item {display: flex;flex-direction: column;z-index: 1;position: relative;background-color: white;}#sk-container-id-2 div.sk-parallel-item:first-child::after {align-self: flex-end;width: 50%;}#sk-container-id-2 div.sk-parallel-item:last-child::after {align-self: flex-start;width: 50%;}#sk-container-id-2 div.sk-parallel-item:only-child::after {width: 0;}#sk-container-id-2 div.sk-dashed-wrapped {border: 1px dashed gray;margin: 0 0.4em 0.5em 0.4em;box-sizing: border-box;padding-bottom: 0.4em;background-color: white;}#sk-container-id-2 div.sk-label label {font-family: monospace;font-weight: bold;display: inline-block;line-height: 1.2em;}#sk-container-id-2 div.sk-label-container {text-align: center;}#sk-container-id-2 div.sk-container {/* jupyter's `normalize.less` sets `[hidden] { display: none; }` but bootstrap.min.css set `[hidden] { display: none !important; }` so we also need the `!important` here to be able to override the default hidden behavior on the sphinx rendered scikit-learn.org. See: https://github.com/scikit-learn/scikit-learn/issues/21755 */display: inline-block !important;position: relative;}#sk-container-id-2 div.sk-text-repr-fallback {display: none;}</style><div id=\"sk-container-id-2\" class=\"sk-top-container\"><div class=\"sk-text-repr-fallback\"><pre>GridSearchCV(cv=&lt;generator object _BaseKFold.split at 0x147cad120&gt;,\n",
       "             estimator=GradientBoostingClassifier(),\n",
       "             param_grid={&#x27;learning_rate&#x27;: [0.0001, 0.001, 0.01, 0.1],\n",
       "                         &#x27;max_depth&#x27;: [3, 5, 7],\n",
       "                         &#x27;subsample&#x27;: [0.01, 0.1, 0.5]},\n",
       "             scoring=&#x27;neg_log_loss&#x27;)</pre><b>In a Jupyter environment, please rerun this cell to show the HTML representation or trust the notebook. <br />On GitHub, the HTML representation is unable to render, please try loading this page with nbviewer.org.</b></div><div class=\"sk-container\" hidden><div class=\"sk-item sk-dashed-wrapped\"><div class=\"sk-label-container\"><div class=\"sk-label sk-toggleable\"><input class=\"sk-toggleable__control sk-hidden--visually\" id=\"sk-estimator-id-4\" type=\"checkbox\" ><label for=\"sk-estimator-id-4\" class=\"sk-toggleable__label sk-toggleable__label-arrow\">GridSearchCV</label><div class=\"sk-toggleable__content\"><pre>GridSearchCV(cv=&lt;generator object _BaseKFold.split at 0x147cad120&gt;,\n",
       "             estimator=GradientBoostingClassifier(),\n",
       "             param_grid={&#x27;learning_rate&#x27;: [0.0001, 0.001, 0.01, 0.1],\n",
       "                         &#x27;max_depth&#x27;: [3, 5, 7],\n",
       "                         &#x27;subsample&#x27;: [0.01, 0.1, 0.5]},\n",
       "             scoring=&#x27;neg_log_loss&#x27;)</pre></div></div></div><div class=\"sk-parallel\"><div class=\"sk-parallel-item\"><div class=\"sk-item\"><div class=\"sk-label-container\"><div class=\"sk-label sk-toggleable\"><input class=\"sk-toggleable__control sk-hidden--visually\" id=\"sk-estimator-id-5\" type=\"checkbox\" ><label for=\"sk-estimator-id-5\" class=\"sk-toggleable__label sk-toggleable__label-arrow\">estimator: GradientBoostingClassifier</label><div class=\"sk-toggleable__content\"><pre>GradientBoostingClassifier()</pre></div></div></div><div class=\"sk-serial\"><div class=\"sk-item\"><div class=\"sk-estimator sk-toggleable\"><input class=\"sk-toggleable__control sk-hidden--visually\" id=\"sk-estimator-id-6\" type=\"checkbox\" ><label for=\"sk-estimator-id-6\" class=\"sk-toggleable__label sk-toggleable__label-arrow\">GradientBoostingClassifier</label><div class=\"sk-toggleable__content\"><pre>GradientBoostingClassifier()</pre></div></div></div></div></div></div></div></div></div></div>"
      ],
      "text/plain": [
       "GridSearchCV(cv=<generator object _BaseKFold.split at 0x147cad120>,\n",
       "             estimator=GradientBoostingClassifier(),\n",
       "             param_grid={'learning_rate': [0.0001, 0.001, 0.01, 0.1],\n",
       "                         'max_depth': [3, 5, 7],\n",
       "                         'subsample': [0.01, 0.1, 0.5]},\n",
       "             scoring='neg_log_loss')"
      ]
     },
     "execution_count": 33,
     "metadata": {},
     "output_type": "execute_result"
    }
   ],
   "source": [
    "param_grid = {\"max_depth\": [3,5,7],\n",
    "              \"learning_rate\": [0.0001,0.001,0.01,0.1],\n",
    "              \"subsample\": [0.01,0.1,0.5]}\n",
    "\n",
    "ml_model = GradientBoostingClassifier(loss = 'log_loss')\n",
    "\n",
    "gscv_ml = GridSearchCV(ml_model,\n",
    "                       scoring = 'neg_log_loss',\n",
    "                       param_grid = param_grid,\n",
    "                       cv = skf.split(Xtr, Ytr))\n",
    "\n",
    "gscv_ml.fit(Xtr, np.array(Ytr).ravel())"
   ]
  },
  {
   "cell_type": "code",
   "execution_count": 34,
   "id": "8e9c11ca",
   "metadata": {},
   "outputs": [
    {
     "data": {
      "text/plain": [
       "{'learning_rate': 0.1, 'max_depth': 3, 'subsample': 0.5}"
      ]
     },
     "execution_count": 34,
     "metadata": {},
     "output_type": "execute_result"
    }
   ],
   "source": [
    "gscv_ml.best_params_ # best parameters from grid search cross validation"
   ]
  },
  {
   "cell_type": "code",
   "execution_count": 35,
   "id": "0a799a6a",
   "metadata": {},
   "outputs": [
    {
     "data": {
      "text/html": [
       "<style>#sk-container-id-3 {color: black;background-color: white;}#sk-container-id-3 pre{padding: 0;}#sk-container-id-3 div.sk-toggleable {background-color: white;}#sk-container-id-3 label.sk-toggleable__label {cursor: pointer;display: block;width: 100%;margin-bottom: 0;padding: 0.3em;box-sizing: border-box;text-align: center;}#sk-container-id-3 label.sk-toggleable__label-arrow:before {content: \"▸\";float: left;margin-right: 0.25em;color: #696969;}#sk-container-id-3 label.sk-toggleable__label-arrow:hover:before {color: black;}#sk-container-id-3 div.sk-estimator:hover label.sk-toggleable__label-arrow:before {color: black;}#sk-container-id-3 div.sk-toggleable__content {max-height: 0;max-width: 0;overflow: hidden;text-align: left;background-color: #f0f8ff;}#sk-container-id-3 div.sk-toggleable__content pre {margin: 0.2em;color: black;border-radius: 0.25em;background-color: #f0f8ff;}#sk-container-id-3 input.sk-toggleable__control:checked~div.sk-toggleable__content {max-height: 200px;max-width: 100%;overflow: auto;}#sk-container-id-3 input.sk-toggleable__control:checked~label.sk-toggleable__label-arrow:before {content: \"▾\";}#sk-container-id-3 div.sk-estimator input.sk-toggleable__control:checked~label.sk-toggleable__label {background-color: #d4ebff;}#sk-container-id-3 div.sk-label input.sk-toggleable__control:checked~label.sk-toggleable__label {background-color: #d4ebff;}#sk-container-id-3 input.sk-hidden--visually {border: 0;clip: rect(1px 1px 1px 1px);clip: rect(1px, 1px, 1px, 1px);height: 1px;margin: -1px;overflow: hidden;padding: 0;position: absolute;width: 1px;}#sk-container-id-3 div.sk-estimator {font-family: monospace;background-color: #f0f8ff;border: 1px dotted black;border-radius: 0.25em;box-sizing: border-box;margin-bottom: 0.5em;}#sk-container-id-3 div.sk-estimator:hover {background-color: #d4ebff;}#sk-container-id-3 div.sk-parallel-item::after {content: \"\";width: 100%;border-bottom: 1px solid gray;flex-grow: 1;}#sk-container-id-3 div.sk-label:hover label.sk-toggleable__label {background-color: #d4ebff;}#sk-container-id-3 div.sk-serial::before {content: \"\";position: absolute;border-left: 1px solid gray;box-sizing: border-box;top: 0;bottom: 0;left: 50%;z-index: 0;}#sk-container-id-3 div.sk-serial {display: flex;flex-direction: column;align-items: center;background-color: white;padding-right: 0.2em;padding-left: 0.2em;position: relative;}#sk-container-id-3 div.sk-item {position: relative;z-index: 1;}#sk-container-id-3 div.sk-parallel {display: flex;align-items: stretch;justify-content: center;background-color: white;position: relative;}#sk-container-id-3 div.sk-item::before, #sk-container-id-3 div.sk-parallel-item::before {content: \"\";position: absolute;border-left: 1px solid gray;box-sizing: border-box;top: 0;bottom: 0;left: 50%;z-index: -1;}#sk-container-id-3 div.sk-parallel-item {display: flex;flex-direction: column;z-index: 1;position: relative;background-color: white;}#sk-container-id-3 div.sk-parallel-item:first-child::after {align-self: flex-end;width: 50%;}#sk-container-id-3 div.sk-parallel-item:last-child::after {align-self: flex-start;width: 50%;}#sk-container-id-3 div.sk-parallel-item:only-child::after {width: 0;}#sk-container-id-3 div.sk-dashed-wrapped {border: 1px dashed gray;margin: 0 0.4em 0.5em 0.4em;box-sizing: border-box;padding-bottom: 0.4em;background-color: white;}#sk-container-id-3 div.sk-label label {font-family: monospace;font-weight: bold;display: inline-block;line-height: 1.2em;}#sk-container-id-3 div.sk-label-container {text-align: center;}#sk-container-id-3 div.sk-container {/* jupyter's `normalize.less` sets `[hidden] { display: none; }` but bootstrap.min.css set `[hidden] { display: none !important; }` so we also need the `!important` here to be able to override the default hidden behavior on the sphinx rendered scikit-learn.org. See: https://github.com/scikit-learn/scikit-learn/issues/21755 */display: inline-block !important;position: relative;}#sk-container-id-3 div.sk-text-repr-fallback {display: none;}</style><div id=\"sk-container-id-3\" class=\"sk-top-container\"><div class=\"sk-text-repr-fallback\"><pre>GradientBoostingClassifier(subsample=0.5)</pre><b>In a Jupyter environment, please rerun this cell to show the HTML representation or trust the notebook. <br />On GitHub, the HTML representation is unable to render, please try loading this page with nbviewer.org.</b></div><div class=\"sk-container\" hidden><div class=\"sk-item\"><div class=\"sk-estimator sk-toggleable\"><input class=\"sk-toggleable__control sk-hidden--visually\" id=\"sk-estimator-id-7\" type=\"checkbox\" checked><label for=\"sk-estimator-id-7\" class=\"sk-toggleable__label sk-toggleable__label-arrow\">GradientBoostingClassifier</label><div class=\"sk-toggleable__content\"><pre>GradientBoostingClassifier(subsample=0.5)</pre></div></div></div></div></div>"
      ],
      "text/plain": [
       "GradientBoostingClassifier(subsample=0.5)"
      ]
     },
     "execution_count": 35,
     "metadata": {},
     "output_type": "execute_result"
    }
   ],
   "source": [
    "ml_model = GradientBoostingClassifier(loss = 'log_loss',\n",
    "                                      max_depth = gscv_ml.best_params_['max_depth'],\n",
    "                                      learning_rate = gscv_ml.best_params_['learning_rate'],\n",
    "                                      subsample = gscv_ml.best_params_['subsample'])\n",
    "ml_model.fit(Xtr, np.array(Ytr).ravel())"
   ]
  },
  {
   "cell_type": "code",
   "execution_count": 36,
   "id": "928997aa",
   "metadata": {},
   "outputs": [],
   "source": [
    "Y_pred_ml = ml_model.predict_proba(Xva)[:,1]\n",
    "cc_ml_y, cc_ml_x = calibration_curve(y_true = Yva, \n",
    "                                     y_prob = Y_pred_ml,\n",
    "                                     n_bins = 10) # for ml model calibration plot "
   ]
  },
  {
   "cell_type": "markdown",
   "id": "a247d7ff",
   "metadata": {},
   "source": [
    "#### Calibration Curves\n",
    "Plot of the calibration curves of the base logistic regression model without the use of Platt Scaling for calibrating probabilities, the calibrated final baseline logistic regression, which uses Platt Scaling for calibration, and the boosted trees ML model. The final calibrated baseline model and the ML boosted trees models will use all of the available data or training before estimating the test set probabilities."
   ]
  },
  {
   "cell_type": "code",
   "execution_count": 37,
   "id": "4877a94c",
   "metadata": {},
   "outputs": [
    {
     "data": {
      "image/png": "[encoded data removed]",
      "text/plain": [
       "<Figure size 432x288 with 1 Axes>"
      ]
     },
     "metadata": {
      "needs_background": "light"
     },
     "output_type": "display_data"
    }
   ],
   "source": [
    "fig, ax = plt.subplots()\n",
    "plt.plot(cc_x, \n",
    "         cc_y, \n",
    "         marker = 'o', \n",
    "         linewidth = 1, \n",
    "         color = 'orange',\n",
    "         label = 'uncalibrated regression')\n",
    "\n",
    "plt.plot(cc_cal_x, \n",
    "         cc_cal_y, \n",
    "         marker = 'o', \n",
    "         linewidth = 1,\n",
    "         color = 'aquamarine',\n",
    "         label = 'calibrated regression')\n",
    "\n",
    "plt.plot(cc_ml_x, \n",
    "         cc_ml_y, \n",
    "         marker = 'o', \n",
    "         linewidth = 1,\n",
    "         color = 'darkviolet',\n",
    "         label = 'boosted trees')\n",
    "\n",
    "fig.suptitle('Calibration Curves')\n",
    "ax.set_xlabel('Average Probability Estimate')\n",
    "ax.set_ylabel('True Fraction of Positives')\n",
    "plt.legend()\n",
    "plt.show()"
   ]
  },
  {
   "cell_type": "markdown",
   "id": "cda038df",
   "metadata": {},
   "source": [
    "#### Performance Comparison\n",
    "Compare the performance of the calibrated baseline logsitic regression model to that of the boosted trees model using the average ROC AUC over the stratified cross validation folds. This should give a reasonable expectation of the test set performance. Use all of the available data for training."
   ]
  },
  {
   "cell_type": "code",
   "execution_count": 38,
   "id": "b32837e9",
   "metadata": {},
   "outputs": [],
   "source": [
    "Xtr = np.vstack((Xtr, Xva)) # combine into a single training set\n",
    "Ytr = pd.concat([Ytr, Yva])"
   ]
  },
  {
   "cell_type": "code",
   "execution_count": 39,
   "id": "8f6fdcc8",
   "metadata": {},
   "outputs": [
    {
     "data": {
      "text/plain": [
       "((40000, 221), (40000, 1))"
      ]
     },
     "execution_count": 39,
     "metadata": {},
     "output_type": "execute_result"
    }
   ],
   "source": [
    "Xtr.shape, Ytr.shape"
   ]
  },
  {
   "cell_type": "code",
   "execution_count": 40,
   "id": "cc398434",
   "metadata": {},
   "outputs": [],
   "source": [
    "reg_model_c = CalibratedClassifierCV(base_estimator = reg_model,\n",
    "                                     method = 'sigmoid', # platt scaling for calibration\n",
    "                                     ensemble = True)\n",
    "\n",
    "cv_score_baseline = cv_score(reg_model_c,\n",
    "                             Xtr,\n",
    "                             np.array(Ytr).ravel(),\n",
    "                             cv = skf.split(Xtr, Ytr),\n",
    "                             scoring = make_scorer(roc_auc_score), # graded on ROC AUC\n",
    "                             n_jobs = -1)\n",
    "\n",
    "ml_model = GradientBoostingClassifier(loss = 'log_loss',\n",
    "                                      max_depth = gscv_ml.best_params_['max_depth'],\n",
    "                                      learning_rate = gscv_ml.best_params_['learning_rate'],\n",
    "                                      subsample = gscv_ml.best_params_['subsample'])\n",
    "\n",
    "cv_score_ml = cv_score(ml_model,\n",
    "                       Xtr,\n",
    "                       np.array(Ytr).ravel(),\n",
    "                       cv = skf.split(Xtr, Ytr),\n",
    "                       scoring = make_scorer(roc_auc_score), # graded on ROC AUC\n",
    "                       n_jobs = -1)"
   ]
  },
  {
   "cell_type": "code",
   "execution_count": 41,
   "id": "7019b2c1",
   "metadata": {},
   "outputs": [
    {
     "name": "stdout",
     "output_type": "stream",
     "text": [
      "The expected ROC AUC from the baseline model is 0.54.\n",
      "The expected ROC AUC from the ML model is 0.556.\n"
     ]
    }
   ],
   "source": [
    "print(f\"The expected ROC AUC from the baseline model is {round(np.mean(cv_score_baseline), 3)}.\")\n",
    "print(f\"The expected ROC AUC from the ML model is {round(np.mean(cv_score_ml), 3)}.\")"
   ]
  },
  {
   "cell_type": "markdown",
   "id": "4c2ddd6c",
   "metadata": {},
   "source": [
    "#### Test Set Predictions"
   ]
  },
  {
   "cell_type": "code",
   "execution_count": 42,
   "id": "6a1fcc25",
   "metadata": {},
   "outputs": [],
   "source": [
    "reg_model_c.fit(Xtr, np.array(Ytr).ravel())\n",
    "ml_model.fit(Xtr, np.array(Ytr).ravel()) # train models using all available training data\n",
    "\n",
    "pred_baseline = reg_model_c.predict_proba(Xte)[:,1]\n",
    "pred_baseline = pd.DataFrame([round(p, 4) for p in pred_baseline])\n",
    "pred_ml = ml_model.predict_proba(Xte)[:,1]\n",
    "pred_ml = pd.DataFrame([round(p, 4) for p in pred_ml])\n",
    "\n",
    "pred_baseline.to_csv(DATA_PATH + 'glmresults.csv', \n",
    "                     index = False,\n",
    "                     header = False)\n",
    "pred_ml.to_csv(DATA_PATH + 'nonglmresults.csv', \n",
    "               index = False,\n",
    "               header = False)"
   ]
  },
  {
   "cell_type": "code",
   "execution_count": 43,
   "id": "a5260406",
   "metadata": {},
   "outputs": [
    {
     "data": {
      "text/plain": [
       "array([0, 1])"
      ]
     },
     "execution_count": 43,
     "metadata": {},
     "output_type": "execute_result"
    }
   ],
   "source": [
    "reg_model_c.classes_ # make sure col 1 is positive class"
   ]
  },
  {
   "cell_type": "code",
   "execution_count": 44,
   "id": "29b02c41",
   "metadata": {},
   "outputs": [
    {
     "data": {
      "text/plain": [
       "array([0, 1])"
      ]
     },
     "execution_count": 44,
     "metadata": {},
     "output_type": "execute_result"
    }
   ],
   "source": [
    "ml_model.classes_"
   ]
  }
 ],
 "metadata": {
  "kernelspec": {
   "display_name": "Python 3 (ipykernel)",
   "language": "python",
   "name": "python3"
  },
  "language_info": {
   "codemirror_mode": {
    "name": "ipython",
    "version": 3
   },
   "file_extension": ".py",
   "mimetype": "text/x-python",
   "name": "python",
   "nbconvert_exporter": "python",
   "pygments_lexer": "ipython3",
   "version": "3.10.6"
  }
 },
 "nbformat": 4,
 "nbformat_minor": 5
}
