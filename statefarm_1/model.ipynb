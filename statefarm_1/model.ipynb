{
 "cells": [
  {
   "cell_type": "code",
   "execution_count": 1,
   "id": "32aea59f",
   "metadata": {},
   "outputs": [],
   "source": [
    "import matplotlib.pyplot as plt\n",
    "import numpy as np\n",
    "import pandas as pd\n",
    "import seaborn as sb\n",
    "from sklearn.calibration import calibration_curve\n",
    "from sklearn.calibration import CalibratedClassifierCV\n",
    "from sklearn.linear_model import LogisticRegression\n",
    "from sklearn.metrics import roc_auc_score\n",
    "from sklearn.metrics import classification_report\n",
    "from sklearn.metrics import make_scorer\n",
    "from sklearn.model_selection import cross_val_score as cv_score\n",
    "from sklearn.model_selection import GridSearchCV\n",
    "from sklearn.model_selection import learning_curve\n",
    "from sklearn.model_selection import StratifiedKFold\n",
    "from sklearn.model_selection import train_test_split\n",
    "from sklearn.impute import SimpleImputer\n",
    "from sklearn.preprocessing import OneHotEncoder"
   ]
  },
  {
   "cell_type": "markdown",
   "id": "f4cb8bfe",
   "metadata": {},
   "source": [
    "#### Executive Summary\n",
    "\n",
    "- Performance\n",
    "These performance estimates are generated from cross validation, which should be a reasonable approximation of the expected test set performance. Looking at ROC AUC alone, the calibrated logistic regression model did reasonably well.\n",
    "\n",
    "| Model | Regression |\n",
    "| --- | --- |\n",
    "| ROC AUC | 0.662 |\n",
    "\n",
    "- Method\n",
    "The trained model is a calibrated logistic regression model with a ridge (L2) penalty and Platt scaling for calibration of probabilities. Performances were compared using 5 fold cross validation.\n",
    "\n",
    "- Caveat\n",
    "There was no column denoting the relative time of each row. There is a concern that the cross validation results are biased as time series cross validation was not used. There was no way to ensure that there is no temporal data leakage across validation splits or between the train and test data.\n",
    "\n",
    "#### Data Exploration"
   ]
  },
  {
   "cell_type": "code",
   "execution_count": 2,
   "id": "fdbb7f8b",
   "metadata": {},
   "outputs": [
    {
     "data": {
      "text/plain": [
       "sample\n",
       "Train      40000\n",
       "Holdout    20000\n",
       "Name: count, dtype: int64"
      ]
     },
     "execution_count": 2,
     "metadata": {},
     "output_type": "execute_result"
    }
   ],
   "source": [
    "DATA_PATH = \"./data/\"\n",
    "data = pd.read_csv(DATA_PATH + \"DS_Work_Sample_Data.csv\")\n",
    "data[\"sample\"].value_counts()"
   ]
  },
  {
   "cell_type": "code",
   "execution_count": 3,
   "id": "8ea2b283-cf3e-42b5-a000-41a7f4375b09",
   "metadata": {},
   "outputs": [
    {
     "data": {
      "text/html": [
       "<div>\n",
       "<style scoped>\n",
       "    .dataframe tbody tr th:only-of-type {\n",
       "        vertical-align: middle;\n",
       "    }\n",
       "\n",
       "    .dataframe tbody tr th {\n",
       "        vertical-align: top;\n",
       "    }\n",
       "\n",
       "    .dataframe thead th {\n",
       "        text-align: right;\n",
       "    }\n",
       "</style>\n",
       "<table border=\"1\" class=\"dataframe\">\n",
       "  <thead>\n",
       "    <tr style=\"text-align: right;\">\n",
       "      <th></th>\n",
       "      <th>index</th>\n",
       "      <th>Unnamed: 0</th>\n",
       "      <th>plcy_id</th>\n",
       "      <th>curnt_bi_low</th>\n",
       "      <th>curnt_bi_upp</th>\n",
       "      <th>curnt_pd_lmt</th>\n",
       "      <th>curnt_coll_ded</th>\n",
       "      <th>curnt_comp_ded</th>\n",
       "      <th>hh_veh_cnt</th>\n",
       "      <th>hh_cnt_auto</th>\n",
       "      <th>...</th>\n",
       "      <th>hh_atf_clm_cnt_py2</th>\n",
       "      <th>hh_atf_clm_cnt_py3</th>\n",
       "      <th>hh_atf_clm_cnt_py4</th>\n",
       "      <th>hh_atf_clm_cnt_py5</th>\n",
       "      <th>hh_naf_clm_cnt_py1</th>\n",
       "      <th>hh_naf_clm_cnt_py2</th>\n",
       "      <th>hh_naf_clm_cnt_py3</th>\n",
       "      <th>hh_naf_clm_cnt_py4</th>\n",
       "      <th>hh_naf_clm_cnt_py5</th>\n",
       "      <th>future_clm_ind</th>\n",
       "    </tr>\n",
       "  </thead>\n",
       "  <tbody>\n",
       "    <tr>\n",
       "      <th>count</th>\n",
       "      <td>40000.00000</td>\n",
       "      <td>40000.00000</td>\n",
       "      <td>40000.00000</td>\n",
       "      <td>40000.000000</td>\n",
       "      <td>40000.000000</td>\n",
       "      <td>40000.000000</td>\n",
       "      <td>30312.000000</td>\n",
       "      <td>27625.000000</td>\n",
       "      <td>40000.000000</td>\n",
       "      <td>40000.000000</td>\n",
       "      <td>...</td>\n",
       "      <td>40000.000000</td>\n",
       "      <td>40000.000000</td>\n",
       "      <td>40000.000000</td>\n",
       "      <td>40000.000000</td>\n",
       "      <td>40000.000000</td>\n",
       "      <td>40000.000000</td>\n",
       "      <td>40000.000000</td>\n",
       "      <td>40000.000000</td>\n",
       "      <td>40000.000000</td>\n",
       "      <td>40000.000000</td>\n",
       "    </tr>\n",
       "    <tr>\n",
       "      <th>mean</th>\n",
       "      <td>19999.50000</td>\n",
       "      <td>19999.50000</td>\n",
       "      <td>20000.50000</td>\n",
       "      <td>98707.500000</td>\n",
       "      <td>193905.000000</td>\n",
       "      <td>73648.375000</td>\n",
       "      <td>802.215294</td>\n",
       "      <td>387.400905</td>\n",
       "      <td>1.727775</td>\n",
       "      <td>1.683225</td>\n",
       "      <td>...</td>\n",
       "      <td>0.126025</td>\n",
       "      <td>0.187825</td>\n",
       "      <td>0.236950</td>\n",
       "      <td>0.281525</td>\n",
       "      <td>0.047500</td>\n",
       "      <td>0.105450</td>\n",
       "      <td>0.161050</td>\n",
       "      <td>0.211775</td>\n",
       "      <td>0.255575</td>\n",
       "      <td>0.061700</td>\n",
       "    </tr>\n",
       "    <tr>\n",
       "      <th>std</th>\n",
       "      <td>11547.14972</td>\n",
       "      <td>11547.14972</td>\n",
       "      <td>11547.14972</td>\n",
       "      <td>92506.822081</td>\n",
       "      <td>138671.218058</td>\n",
       "      <td>75478.630489</td>\n",
       "      <td>575.719460</td>\n",
       "      <td>337.091688</td>\n",
       "      <td>1.074150</td>\n",
       "      <td>1.037741</td>\n",
       "      <td>...</td>\n",
       "      <td>0.372285</td>\n",
       "      <td>0.471966</td>\n",
       "      <td>0.544024</td>\n",
       "      <td>0.610269</td>\n",
       "      <td>0.225044</td>\n",
       "      <td>0.345519</td>\n",
       "      <td>0.440191</td>\n",
       "      <td>0.526719</td>\n",
       "      <td>0.598469</td>\n",
       "      <td>0.240613</td>\n",
       "    </tr>\n",
       "    <tr>\n",
       "      <th>min</th>\n",
       "      <td>0.00000</td>\n",
       "      <td>0.00000</td>\n",
       "      <td>1.00000</td>\n",
       "      <td>25000.000000</td>\n",
       "      <td>50000.000000</td>\n",
       "      <td>20000.000000</td>\n",
       "      <td>250.000000</td>\n",
       "      <td>0.000000</td>\n",
       "      <td>1.000000</td>\n",
       "      <td>1.000000</td>\n",
       "      <td>...</td>\n",
       "      <td>0.000000</td>\n",
       "      <td>0.000000</td>\n",
       "      <td>0.000000</td>\n",
       "      <td>0.000000</td>\n",
       "      <td>0.000000</td>\n",
       "      <td>0.000000</td>\n",
       "      <td>0.000000</td>\n",
       "      <td>0.000000</td>\n",
       "      <td>0.000000</td>\n",
       "      <td>0.000000</td>\n",
       "    </tr>\n",
       "    <tr>\n",
       "      <th>25%</th>\n",
       "      <td>9999.75000</td>\n",
       "      <td>9999.75000</td>\n",
       "      <td>10000.75000</td>\n",
       "      <td>25000.000000</td>\n",
       "      <td>50000.000000</td>\n",
       "      <td>25000.000000</td>\n",
       "      <td>250.000000</td>\n",
       "      <td>250.000000</td>\n",
       "      <td>1.000000</td>\n",
       "      <td>1.000000</td>\n",
       "      <td>...</td>\n",
       "      <td>0.000000</td>\n",
       "      <td>0.000000</td>\n",
       "      <td>0.000000</td>\n",
       "      <td>0.000000</td>\n",
       "      <td>0.000000</td>\n",
       "      <td>0.000000</td>\n",
       "      <td>0.000000</td>\n",
       "      <td>0.000000</td>\n",
       "      <td>0.000000</td>\n",
       "      <td>0.000000</td>\n",
       "    </tr>\n",
       "    <tr>\n",
       "      <th>50%</th>\n",
       "      <td>19999.50000</td>\n",
       "      <td>19999.50000</td>\n",
       "      <td>20000.50000</td>\n",
       "      <td>50000.000000</td>\n",
       "      <td>100000.000000</td>\n",
       "      <td>50000.000000</td>\n",
       "      <td>500.000000</td>\n",
       "      <td>250.000000</td>\n",
       "      <td>1.000000</td>\n",
       "      <td>1.000000</td>\n",
       "      <td>...</td>\n",
       "      <td>0.000000</td>\n",
       "      <td>0.000000</td>\n",
       "      <td>0.000000</td>\n",
       "      <td>0.000000</td>\n",
       "      <td>0.000000</td>\n",
       "      <td>0.000000</td>\n",
       "      <td>0.000000</td>\n",
       "      <td>0.000000</td>\n",
       "      <td>0.000000</td>\n",
       "      <td>0.000000</td>\n",
       "    </tr>\n",
       "    <tr>\n",
       "      <th>75%</th>\n",
       "      <td>29999.25000</td>\n",
       "      <td>29999.25000</td>\n",
       "      <td>30000.25000</td>\n",
       "      <td>100000.000000</td>\n",
       "      <td>300000.000000</td>\n",
       "      <td>100000.000000</td>\n",
       "      <td>1000.000000</td>\n",
       "      <td>500.000000</td>\n",
       "      <td>2.000000</td>\n",
       "      <td>2.000000</td>\n",
       "      <td>...</td>\n",
       "      <td>0.000000</td>\n",
       "      <td>0.000000</td>\n",
       "      <td>0.000000</td>\n",
       "      <td>0.000000</td>\n",
       "      <td>0.000000</td>\n",
       "      <td>0.000000</td>\n",
       "      <td>0.000000</td>\n",
       "      <td>0.000000</td>\n",
       "      <td>0.000000</td>\n",
       "      <td>0.000000</td>\n",
       "    </tr>\n",
       "    <tr>\n",
       "      <th>max</th>\n",
       "      <td>39999.00000</td>\n",
       "      <td>39999.00000</td>\n",
       "      <td>40000.00000</td>\n",
       "      <td>750000.000000</td>\n",
       "      <td>1000000.000000</td>\n",
       "      <td>300000.000000</td>\n",
       "      <td>2000.000000</td>\n",
       "      <td>2000.000000</td>\n",
       "      <td>11.000000</td>\n",
       "      <td>10.000000</td>\n",
       "      <td>...</td>\n",
       "      <td>6.000000</td>\n",
       "      <td>7.000000</td>\n",
       "      <td>7.000000</td>\n",
       "      <td>6.000000</td>\n",
       "      <td>3.000000</td>\n",
       "      <td>5.000000</td>\n",
       "      <td>6.000000</td>\n",
       "      <td>6.000000</td>\n",
       "      <td>7.000000</td>\n",
       "      <td>1.000000</td>\n",
       "    </tr>\n",
       "  </tbody>\n",
       "</table>\n",
       "<p>8 rows × 52 columns</p>\n",
       "</div>"
      ],
      "text/plain": [
       "             index   Unnamed: 0      plcy_id   curnt_bi_low    curnt_bi_upp  \\\n",
       "count  40000.00000  40000.00000  40000.00000   40000.000000    40000.000000   \n",
       "mean   19999.50000  19999.50000  20000.50000   98707.500000   193905.000000   \n",
       "std    11547.14972  11547.14972  11547.14972   92506.822081   138671.218058   \n",
       "min        0.00000      0.00000      1.00000   25000.000000    50000.000000   \n",
       "25%     9999.75000   9999.75000  10000.75000   25000.000000    50000.000000   \n",
       "50%    19999.50000  19999.50000  20000.50000   50000.000000   100000.000000   \n",
       "75%    29999.25000  29999.25000  30000.25000  100000.000000   300000.000000   \n",
       "max    39999.00000  39999.00000  40000.00000  750000.000000  1000000.000000   \n",
       "\n",
       "        curnt_pd_lmt  curnt_coll_ded  curnt_comp_ded    hh_veh_cnt  \\\n",
       "count   40000.000000    30312.000000    27625.000000  40000.000000   \n",
       "mean    73648.375000      802.215294      387.400905      1.727775   \n",
       "std     75478.630489      575.719460      337.091688      1.074150   \n",
       "min     20000.000000      250.000000        0.000000      1.000000   \n",
       "25%     25000.000000      250.000000      250.000000      1.000000   \n",
       "50%     50000.000000      500.000000      250.000000      1.000000   \n",
       "75%    100000.000000     1000.000000      500.000000      2.000000   \n",
       "max    300000.000000     2000.000000     2000.000000     11.000000   \n",
       "\n",
       "        hh_cnt_auto  ...  hh_atf_clm_cnt_py2  hh_atf_clm_cnt_py3  \\\n",
       "count  40000.000000  ...        40000.000000        40000.000000   \n",
       "mean       1.683225  ...            0.126025            0.187825   \n",
       "std        1.037741  ...            0.372285            0.471966   \n",
       "min        1.000000  ...            0.000000            0.000000   \n",
       "25%        1.000000  ...            0.000000            0.000000   \n",
       "50%        1.000000  ...            0.000000            0.000000   \n",
       "75%        2.000000  ...            0.000000            0.000000   \n",
       "max       10.000000  ...            6.000000            7.000000   \n",
       "\n",
       "       hh_atf_clm_cnt_py4  hh_atf_clm_cnt_py5  hh_naf_clm_cnt_py1  \\\n",
       "count        40000.000000        40000.000000        40000.000000   \n",
       "mean             0.236950            0.281525            0.047500   \n",
       "std              0.544024            0.610269            0.225044   \n",
       "min              0.000000            0.000000            0.000000   \n",
       "25%              0.000000            0.000000            0.000000   \n",
       "50%              0.000000            0.000000            0.000000   \n",
       "75%              0.000000            0.000000            0.000000   \n",
       "max              7.000000            6.000000            3.000000   \n",
       "\n",
       "       hh_naf_clm_cnt_py2  hh_naf_clm_cnt_py3  hh_naf_clm_cnt_py4  \\\n",
       "count        40000.000000        40000.000000        40000.000000   \n",
       "mean             0.105450            0.161050            0.211775   \n",
       "std              0.345519            0.440191            0.526719   \n",
       "min              0.000000            0.000000            0.000000   \n",
       "25%              0.000000            0.000000            0.000000   \n",
       "50%              0.000000            0.000000            0.000000   \n",
       "75%              0.000000            0.000000            0.000000   \n",
       "max              5.000000            6.000000            6.000000   \n",
       "\n",
       "       hh_naf_clm_cnt_py5  future_clm_ind  \n",
       "count        40000.000000    40000.000000  \n",
       "mean             0.255575        0.061700  \n",
       "std              0.598469        0.240613  \n",
       "min              0.000000        0.000000  \n",
       "25%              0.000000        0.000000  \n",
       "50%              0.000000        0.000000  \n",
       "75%              0.000000        0.000000  \n",
       "max              7.000000        1.000000  \n",
       "\n",
       "[8 rows x 52 columns]"
      ]
     },
     "execution_count": 3,
     "metadata": {},
     "output_type": "execute_result"
    }
   ],
   "source": [
    "data_tr = data.loc[data[\"sample\"] == \"Train\", ].copy().reset_index()\n",
    "data_te = data.loc[data[\"sample\"] == \"Holdout\", ].copy().reset_index()\n",
    "data_tr.describe()"
   ]
  },
  {
   "cell_type": "code",
   "execution_count": 4,
   "id": "2621c77f",
   "metadata": {},
   "outputs": [
    {
     "data": {
      "text/plain": [
       "(index                   int64\n",
       " Unnamed: 0              int64\n",
       " plcy_id                 int64\n",
       " sample                 object\n",
       " curnt_bi_low            int64\n",
       " curnt_bi_upp            int64\n",
       " curnt_pd_lmt            int64\n",
       " curnt_coll_ded        float64\n",
       " curnt_comp_ded        float64\n",
       " hh_veh_cnt              int64\n",
       " hh_cnt_auto             int64\n",
       " hh_cnt_mtrcyc           int64\n",
       " hh_veh_w_coll_cnt       int64\n",
       " hh_veh_w_comp_cnt       int64\n",
       " hh_veh_lien_cnt       float64\n",
       " hh_veh_lease_cnt      float64\n",
       " hh_veh_own_cnt        float64\n",
       " veh_ownership          object\n",
       " annual_mileage        float64\n",
       " veh_make               object\n",
       " veh_model              object\n",
       " veh_age               float64\n",
       " min_hh_veh_age        float64\n",
       " max_hh_veh_age        float64\n",
       " avg_hh_veh_age        float64\n",
       " hh_drvr_cnt           float64\n",
       " hh_min_age            float64\n",
       " hh_max_age            float64\n",
       " hh_avg_age            float64\n",
       " hh_min_mon_lic        float64\n",
       " hh_max_mon_lic        float64\n",
       " hh_avg_mon_lic        float64\n",
       " hh_cnt_yth            float64\n",
       " hh_cnt_female         float64\n",
       " hh_cnt_male           float64\n",
       " hoh_married           float64\n",
       " hh_cnt_majr_viol        int64\n",
       " hh_cnt_minr_viol        int64\n",
       " hh_cnt_lic_susp         int64\n",
       " prior_insurer          object\n",
       " time_w_carr           float64\n",
       " inforce_ind             int64\n",
       " multiline_ind           int64\n",
       " homeowner_ind           int64\n",
       " monthly_pay_ind         int64\n",
       " credit_score            int64\n",
       " hh_atf_clm_cnt_py1      int64\n",
       " hh_atf_clm_cnt_py2      int64\n",
       " hh_atf_clm_cnt_py3      int64\n",
       " hh_atf_clm_cnt_py4      int64\n",
       " hh_atf_clm_cnt_py5      int64\n",
       " hh_naf_clm_cnt_py1      int64\n",
       " hh_naf_clm_cnt_py2      int64\n",
       " hh_naf_clm_cnt_py3      int64\n",
       " hh_naf_clm_cnt_py4      int64\n",
       " hh_naf_clm_cnt_py5      int64\n",
       " future_clm_ind        float64\n",
       " dtype: object,\n",
       " index                   int64\n",
       " Unnamed: 0              int64\n",
       " plcy_id                 int64\n",
       " sample                 object\n",
       " curnt_bi_low            int64\n",
       " curnt_bi_upp            int64\n",
       " curnt_pd_lmt            int64\n",
       " curnt_coll_ded        float64\n",
       " curnt_comp_ded        float64\n",
       " hh_veh_cnt              int64\n",
       " hh_cnt_auto             int64\n",
       " hh_cnt_mtrcyc           int64\n",
       " hh_veh_w_coll_cnt       int64\n",
       " hh_veh_w_comp_cnt       int64\n",
       " hh_veh_lien_cnt       float64\n",
       " hh_veh_lease_cnt      float64\n",
       " hh_veh_own_cnt        float64\n",
       " veh_ownership          object\n",
       " annual_mileage        float64\n",
       " veh_make               object\n",
       " veh_model              object\n",
       " veh_age               float64\n",
       " min_hh_veh_age        float64\n",
       " max_hh_veh_age        float64\n",
       " avg_hh_veh_age        float64\n",
       " hh_drvr_cnt           float64\n",
       " hh_min_age            float64\n",
       " hh_max_age            float64\n",
       " hh_avg_age            float64\n",
       " hh_min_mon_lic        float64\n",
       " hh_max_mon_lic        float64\n",
       " hh_avg_mon_lic        float64\n",
       " hh_cnt_yth            float64\n",
       " hh_cnt_female         float64\n",
       " hh_cnt_male           float64\n",
       " hoh_married           float64\n",
       " hh_cnt_majr_viol        int64\n",
       " hh_cnt_minr_viol        int64\n",
       " hh_cnt_lic_susp         int64\n",
       " prior_insurer          object\n",
       " time_w_carr           float64\n",
       " inforce_ind             int64\n",
       " multiline_ind           int64\n",
       " homeowner_ind           int64\n",
       " monthly_pay_ind         int64\n",
       " credit_score            int64\n",
       " hh_atf_clm_cnt_py1      int64\n",
       " hh_atf_clm_cnt_py2      int64\n",
       " hh_atf_clm_cnt_py3      int64\n",
       " hh_atf_clm_cnt_py4      int64\n",
       " hh_atf_clm_cnt_py5      int64\n",
       " hh_naf_clm_cnt_py1      int64\n",
       " hh_naf_clm_cnt_py2      int64\n",
       " hh_naf_clm_cnt_py3      int64\n",
       " hh_naf_clm_cnt_py4      int64\n",
       " hh_naf_clm_cnt_py5      int64\n",
       " future_clm_ind        float64\n",
       " dtype: object)"
      ]
     },
     "execution_count": 4,
     "metadata": {},
     "output_type": "execute_result"
    }
   ],
   "source": [
    "data_tr.dtypes, data_te.dtypes"
   ]
  },
  {
   "cell_type": "code",
   "execution_count": 5,
   "id": "a9392aa4",
   "metadata": {},
   "outputs": [
    {
     "data": {
      "text/plain": [
       "(index                     0\n",
       " Unnamed: 0                0\n",
       " plcy_id                   0\n",
       " sample                    0\n",
       " curnt_bi_low              0\n",
       " curnt_bi_upp              0\n",
       " curnt_pd_lmt              0\n",
       " curnt_coll_ded         9688\n",
       " curnt_comp_ded        12375\n",
       " hh_veh_cnt                0\n",
       " hh_cnt_auto               0\n",
       " hh_cnt_mtrcyc             0\n",
       " hh_veh_w_coll_cnt         0\n",
       " hh_veh_w_comp_cnt         0\n",
       " hh_veh_lien_cnt        5184\n",
       " hh_veh_lease_cnt       5184\n",
       " hh_veh_own_cnt         5184\n",
       " veh_ownership          4578\n",
       " annual_mileage         1293\n",
       " veh_make                  0\n",
       " veh_model                 0\n",
       " veh_age                   0\n",
       " min_hh_veh_age            0\n",
       " max_hh_veh_age            0\n",
       " avg_hh_veh_age            0\n",
       " hh_drvr_cnt               0\n",
       " hh_min_age                0\n",
       " hh_max_age                0\n",
       " hh_avg_age                0\n",
       " hh_min_mon_lic            0\n",
       " hh_max_mon_lic            0\n",
       " hh_avg_mon_lic            0\n",
       " hh_cnt_yth                0\n",
       " hh_cnt_female             0\n",
       " hh_cnt_male               0\n",
       " hoh_married               0\n",
       " hh_cnt_majr_viol          0\n",
       " hh_cnt_minr_viol          0\n",
       " hh_cnt_lic_susp           0\n",
       " prior_insurer             0\n",
       " time_w_carr               0\n",
       " inforce_ind               0\n",
       " multiline_ind             0\n",
       " homeowner_ind             0\n",
       " monthly_pay_ind           0\n",
       " credit_score              0\n",
       " hh_atf_clm_cnt_py1        0\n",
       " hh_atf_clm_cnt_py2        0\n",
       " hh_atf_clm_cnt_py3        0\n",
       " hh_atf_clm_cnt_py4        0\n",
       " hh_atf_clm_cnt_py5        0\n",
       " hh_naf_clm_cnt_py1        0\n",
       " hh_naf_clm_cnt_py2        0\n",
       " hh_naf_clm_cnt_py3        0\n",
       " hh_naf_clm_cnt_py4        0\n",
       " hh_naf_clm_cnt_py5        0\n",
       " future_clm_ind            0\n",
       " dtype: int64,\n",
       " index                     0\n",
       " Unnamed: 0                0\n",
       " plcy_id                   0\n",
       " sample                    0\n",
       " curnt_bi_low              0\n",
       " curnt_bi_upp              0\n",
       " curnt_pd_lmt              0\n",
       " curnt_coll_ded         4928\n",
       " curnt_comp_ded         6189\n",
       " hh_veh_cnt                0\n",
       " hh_cnt_auto               0\n",
       " hh_cnt_mtrcyc             0\n",
       " hh_veh_w_coll_cnt         0\n",
       " hh_veh_w_comp_cnt         0\n",
       " hh_veh_lien_cnt        2562\n",
       " hh_veh_lease_cnt       2562\n",
       " hh_veh_own_cnt         2562\n",
       " veh_ownership          2272\n",
       " annual_mileage          635\n",
       " veh_make                  0\n",
       " veh_model                 0\n",
       " veh_age                   0\n",
       " min_hh_veh_age            0\n",
       " max_hh_veh_age            0\n",
       " avg_hh_veh_age            0\n",
       " hh_drvr_cnt               0\n",
       " hh_min_age                0\n",
       " hh_max_age                0\n",
       " hh_avg_age                0\n",
       " hh_min_mon_lic            0\n",
       " hh_max_mon_lic            0\n",
       " hh_avg_mon_lic            0\n",
       " hh_cnt_yth                0\n",
       " hh_cnt_female             0\n",
       " hh_cnt_male               0\n",
       " hoh_married               0\n",
       " hh_cnt_majr_viol          0\n",
       " hh_cnt_minr_viol          0\n",
       " hh_cnt_lic_susp           0\n",
       " prior_insurer             0\n",
       " time_w_carr               0\n",
       " inforce_ind               0\n",
       " multiline_ind             0\n",
       " homeowner_ind             0\n",
       " monthly_pay_ind           0\n",
       " credit_score              0\n",
       " hh_atf_clm_cnt_py1        0\n",
       " hh_atf_clm_cnt_py2        0\n",
       " hh_atf_clm_cnt_py3        0\n",
       " hh_atf_clm_cnt_py4        0\n",
       " hh_atf_clm_cnt_py5        0\n",
       " hh_naf_clm_cnt_py1        0\n",
       " hh_naf_clm_cnt_py2        0\n",
       " hh_naf_clm_cnt_py3        0\n",
       " hh_naf_clm_cnt_py4        0\n",
       " hh_naf_clm_cnt_py5        0\n",
       " future_clm_ind        20000\n",
       " dtype: int64)"
      ]
     },
     "execution_count": 5,
     "metadata": {},
     "output_type": "execute_result"
    }
   ],
   "source": [
    "# Check if data is missing.\n",
    "data_tr.isnull().sum(), data_te.isnull().sum()"
   ]
  },
  {
   "cell_type": "code",
   "execution_count": 6,
   "id": "d8141ec7",
   "metadata": {},
   "outputs": [
    {
     "data": {
      "text/plain": [
       "future_clm_ind\n",
       "0.0    37532\n",
       "1.0     2468\n",
       "Name: count, dtype: int64"
      ]
     },
     "execution_count": 6,
     "metadata": {},
     "output_type": "execute_result"
    }
   ],
   "source": [
    "# Check class balance of the binary classification problem.\n",
    "data_tr.future_clm_ind.value_counts()"
   ]
  },
  {
   "cell_type": "code",
   "execution_count": 7,
   "id": "9e4cf1fd",
   "metadata": {},
   "outputs": [
    {
     "data": {
      "text/plain": [
       "((40000, 57), (20000, 57))"
      ]
     },
     "execution_count": 7,
     "metadata": {},
     "output_type": "execute_result"
    }
   ],
   "source": [
    "data_tr.shape, data_te.shape"
   ]
  },
  {
   "cell_type": "code",
   "execution_count": 8,
   "id": "1b391d1e",
   "metadata": {},
   "outputs": [
    {
     "name": "stdout",
     "output_type": "stream",
     "text": [
      "The positive class frequency is 0.1%.\n"
     ]
    }
   ],
   "source": [
    "print(f\"The positive class frequency is {round(data_tr.future_clm_ind.sum() / data_tr.shape[0], 1)}%.\")"
   ]
  },
  {
   "cell_type": "markdown",
   "id": "f06cc955",
   "metadata": {},
   "source": [
    "There is missing data and it isn't clear if it is MNAR or missing completely at random. To be safe, a dummy variable will be created to account for missingness. For missing values where the feature column is a float, median imputation will be used to fill in the missing data. Given the massive class imbalance, it's important to check the calibration of the model's probability estimates. It isn't clear if there is any temporal dependence in the data. If there is, it is important to use time series cross validation to respect the order of the data over time. Using k-fold cross validation and shuffling the data could lead to data leakage and biased performance estimates."
   ]
  },
  {
   "cell_type": "code",
   "execution_count": 9,
   "id": "a44b713b-3d42-4034-8f03-69f7345ce033",
   "metadata": {},
   "outputs": [
    {
     "data": {
      "text/plain": [
       "sample              0\n",
       "veh_ownership    4578\n",
       "veh_make            0\n",
       "veh_model           0\n",
       "prior_insurer       0\n",
       "dtype: int64"
      ]
     },
     "execution_count": 9,
     "metadata": {},
     "output_type": "execute_result"
    }
   ],
   "source": [
    "TARGET_COL = \"future_clm_ind\"\n",
    "\n",
    "DROP_COLS = [\n",
    "    \"index\",\n",
    "    \"sample\",\n",
    "    \"plcy_id\",\n",
    "    \"future_clm_ind\",\n",
    "    \"Unnamed: 0\",\n",
    "    \"veh_model\"\n",
    "]\n",
    "\n",
    "CAT_COLS = data_tr.select_dtypes(include = \"object\").columns\n",
    "data_tr[CAT_COLS].isnull().sum()"
   ]
  },
  {
   "cell_type": "code",
   "execution_count": 10,
   "id": "9f73675b-ac5b-4271-8ecd-42e2025415e2",
   "metadata": {},
   "outputs": [
    {
     "data": {
      "text/plain": [
       "<Axes: xlabel='veh_ownership', ylabel='count'>"
      ]
     },
     "execution_count": 10,
     "metadata": {},
     "output_type": "execute_result"
    },
    {
     "data": {
      "image/png": "[encoded data removed]",
      "text/plain": [
       "<Figure size 640x480 with 1 Axes>"
      ]
     },
     "metadata": {},
     "output_type": "display_data"
    }
   ],
   "source": [
    "sb.countplot(\n",
    "    data = data_tr,\n",
    "    x = \"veh_ownership\",\n",
    "    hue = \"veh_ownership\",\n",
    "    palette = \"husl\"\n",
    ")"
   ]
  },
  {
   "cell_type": "code",
   "execution_count": 11,
   "id": "cecd86a3-2486-4b4a-b9ff-4b7597ed53c2",
   "metadata": {},
   "outputs": [
    {
     "data": {
      "text/plain": [
       "<Axes: xlabel='veh_make', ylabel='count'>"
      ]
     },
     "execution_count": 11,
     "metadata": {},
     "output_type": "execute_result"
    },
    {
     "data": {
      "image/png": "[encoded data removed]",
      "text/plain": [
       "<Figure size 640x480 with 1 Axes>"
      ]
     },
     "metadata": {},
     "output_type": "display_data"
    }
   ],
   "source": [
    "sb.countplot(\n",
    "    data = data_tr,\n",
    "    x = \"veh_make\",\n",
    "    hue = \"veh_make\",\n",
    "    palette = \"husl\"\n",
    ")"
   ]
  },
  {
   "cell_type": "code",
   "execution_count": 12,
   "id": "9992cefd-4e5a-49ff-9a04-682b2eb8baec",
   "metadata": {},
   "outputs": [
    {
     "data": {
      "text/plain": [
       "<Axes: xlabel='veh_model', ylabel='count'>"
      ]
     },
     "execution_count": 12,
     "metadata": {},
     "output_type": "execute_result"
    },
    {
     "data": {
      "image/png": "[encoded data removed]",
      "text/plain": [
       "<Figure size 640x480 with 1 Axes>"
      ]
     },
     "metadata": {},
     "output_type": "display_data"
    }
   ],
   "source": [
    "sb.countplot(\n",
    "    data = data_tr,\n",
    "    x = \"veh_model\",\n",
    "    hue = \"veh_model\",\n",
    "    palette = \"husl\"\n",
    ")"
   ]
  },
  {
   "cell_type": "code",
   "execution_count": 13,
   "id": "9ea97186-2228-422f-892f-caeb50f97d28",
   "metadata": {},
   "outputs": [
    {
     "data": {
      "text/plain": [
       "veh_model\n",
       "A1    804\n",
       "C1    580\n",
       "B1    560\n",
       "M1    531\n",
       "A2    522\n",
       "     ... \n",
       "Z9      4\n",
       "Y9      4\n",
       "Z8      3\n",
       "X7      2\n",
       "X8      1\n",
       "Name: count, Length: 233, dtype: int64"
      ]
     },
     "execution_count": 13,
     "metadata": {},
     "output_type": "execute_result"
    }
   ],
   "source": [
    "data_tr[\"veh_model\"].value_counts()"
   ]
  },
  {
   "cell_type": "markdown",
   "id": "02d1306d-cd02-48a4-83d5-4de4016b2775",
   "metadata": {},
   "source": [
    "There are 233 different vehicle models. One hot encoding these categorical features can become massive in memory. Given how sparse this would become and the low number of positive class examples, we can exclude this feature from the baseline model. Alternatively, we can include this feature in the model while using an L2 penalty, which is preferable for sparse training data."
   ]
  },
  {
   "cell_type": "code",
   "execution_count": 14,
   "id": "a77ac44d-16e0-499f-9852-c7004d4f146f",
   "metadata": {},
   "outputs": [
    {
     "data": {
      "text/plain": [
       "<Axes: xlabel='prior_insurer', ylabel='count'>"
      ]
     },
     "execution_count": 14,
     "metadata": {},
     "output_type": "execute_result"
    },
    {
     "data": {
      "image/png": "[encoded data removed]",
      "text/plain": [
       "<Figure size 640x480 with 1 Axes>"
      ]
     },
     "metadata": {},
     "output_type": "display_data"
    }
   ],
   "source": [
    "sb.countplot(\n",
    "    data = data_tr,\n",
    "    x = \"prior_insurer\",\n",
    "    hue = \"prior_insurer\",\n",
    "    palette = \"husl\"\n",
    ")"
   ]
  },
  {
   "cell_type": "code",
   "execution_count": 15,
   "id": "fa3fe48a-f843-4bc1-8039-f07663456220",
   "metadata": {},
   "outputs": [
    {
     "data": {
      "text/plain": [
       "prior_insurer\n",
       "Alpha      6464\n",
       "Beta       5603\n",
       "Gamma      4581\n",
       "Delta      4146\n",
       "Epsilon    3226\n",
       "Zeta       2401\n",
       "Eta        2366\n",
       "Theta      1617\n",
       "Iota       1217\n",
       "Lamda       836\n",
       "Kappa       789\n",
       "Mu          776\n",
       "Nu          727\n",
       "Xi          692\n",
       "Omicron     591\n",
       "Pi          583\n",
       "Rho         532\n",
       "Sigma       520\n",
       "Tau         476\n",
       "Upsilon     459\n",
       "Phi         448\n",
       "Chi         348\n",
       "Psi         319\n",
       "Omega       283\n",
       "Name: count, dtype: int64"
      ]
     },
     "execution_count": 15,
     "metadata": {},
     "output_type": "execute_result"
    }
   ],
   "source": [
    "data_tr[\"prior_insurer\"].value_counts()"
   ]
  },
  {
   "cell_type": "markdown",
   "id": "cfc86d2b",
   "metadata": {},
   "source": [
    "#### Data Preprocess"
   ]
  },
  {
   "cell_type": "markdown",
   "id": "1302aa08",
   "metadata": {},
   "source": [
    "Split into training and validation sets. The validation set is for plotting the calibration curves of the models. The final models used for estimating test set probabilities will use all of the available data for training. Categorical columns are one hot encoded. Missing floating point values are filled in using median imputation and a dummy variable column is created to account for the missingness incase the data is MNAR."
   ]
  },
  {
   "cell_type": "code",
   "execution_count": 16,
   "id": "cee2b7d1",
   "metadata": {},
   "outputs": [
    {
     "data": {
      "text/plain": [
       "((32000, 341), (20000, 341))"
      ]
     },
     "execution_count": 16,
     "metadata": {},
     "output_type": "execute_result"
    }
   ],
   "source": [
    "TARGET_COL = \"future_clm_ind\"\n",
    "\n",
    "DROP_COLS = [\n",
    "    \"index\",\n",
    "    \"sample\",\n",
    "    \"plcy_id\",\n",
    "    \"future_clm_ind\",\n",
    "    \"Unnamed: 0\"\n",
    "]\n",
    "\n",
    "Ytr = data_tr[TARGET_COL]\n",
    "Yte = pd.DataFrame(data_te[\"plcy_id\"].copy())\n",
    "Xtr = data_tr.drop(columns = DROP_COLS)\n",
    "Xte = data_te.drop(columns = DROP_COLS)\n",
    "\n",
    "# Categorical column names after drop columns are excluded.\n",
    "CAT_COLS = Xtr.select_dtypes(include = \"object\").columns\n",
    "\n",
    "# Replace any missing categories.\n",
    "Xtr_cat = Xtr[CAT_COLS].copy().fillna(value = \"missing\")\n",
    "Xte_cat = Xte[CAT_COLS].copy().fillna(value = \"missing\")\n",
    "# Fit one hot encoder to categorical columns.\n",
    "enc = OneHotEncoder().fit(Xtr_cat)\n",
    "col_names = enc.get_feature_names_out()\n",
    "Xtr_cat = enc.transform(Xtr_cat).toarray()\n",
    "Xte_cat = enc.transform(Xte_cat).toarray()\n",
    "\n",
    "Xtr = pd.concat([Xtr.drop(columns = CAT_COLS),\n",
    "                 pd.DataFrame(Xtr_cat, columns = col_names)],\n",
    "                axis = 1)\n",
    "\n",
    "Xte = pd.concat([Xte.drop(columns = CAT_COLS),\n",
    "                 pd.DataFrame(Xte_cat, columns = col_names)],\n",
    "                axis = 1)\n",
    "\n",
    "# Use median imputation for missing floating point values.\n",
    "imp = SimpleImputer(\n",
    "    missing_values = np.nan, \n",
    "    strategy = \"median\",\n",
    "    add_indicator = True\n",
    ")\n",
    "\n",
    "imp.fit(Xtr)\n",
    "Xtr = imp.transform(Xtr)\n",
    "Xte = imp.transform(Xte)\n",
    "column_names = imp.get_feature_names_out()\n",
    "\n",
    "# Given the class imbalance, use stratified split.\n",
    "skf = StratifiedKFold(n_splits = 5)\n",
    "\n",
    "Xtr, Xva, Ytr, Yva = train_test_split(\n",
    "    Xtr,\n",
    "    Ytr,\n",
    "    test_size = 0.2,\n",
    "    stratify = Ytr\n",
    ")\n",
    "\n",
    "del Xtr_cat, Xte_cat\n",
    "\n",
    "Xtr.shape, Xte.shape"
   ]
  },
  {
   "cell_type": "markdown",
   "id": "21490719",
   "metadata": {},
   "source": [
    "#### Baseline Logistic Regression Model\n",
    "Use a logistic regression with an L2 (ridge) penalty. As an aside, using an L2 penalty is preferable when the inputs are sparse. Stratified k-fold cross validation is used for model hyper parameter selection. Given the class imbalance, it is important to stratify on the binary target class so that the positive class is equally represented across the cv folds."
   ]
  },
  {
   "cell_type": "code",
   "execution_count": 17,
   "id": "add5f5dd",
   "metadata": {},
   "outputs": [
    {
     "data": {
      "text/html": [
       "<style>#sk-container-id-1 {color: black;}#sk-container-id-1 pre{padding: 0;}#sk-container-id-1 div.sk-toggleable {background-color: white;}#sk-container-id-1 label.sk-toggleable__label {cursor: pointer;display: block;width: 100%;margin-bottom: 0;padding: 0.3em;box-sizing: border-box;text-align: center;}#sk-container-id-1 label.sk-toggleable__label-arrow:before {content: \"▸\";float: left;margin-right: 0.25em;color: #696969;}#sk-container-id-1 label.sk-toggleable__label-arrow:hover:before {color: black;}#sk-container-id-1 div.sk-estimator:hover label.sk-toggleable__label-arrow:before {color: black;}#sk-container-id-1 div.sk-toggleable__content {max-height: 0;max-width: 0;overflow: hidden;text-align: left;background-color: #f0f8ff;}#sk-container-id-1 div.sk-toggleable__content pre {margin: 0.2em;color: black;border-radius: 0.25em;background-color: #f0f8ff;}#sk-container-id-1 input.sk-toggleable__control:checked~div.sk-toggleable__content {max-height: 200px;max-width: 100%;overflow: auto;}#sk-container-id-1 input.sk-toggleable__control:checked~label.sk-toggleable__label-arrow:before {content: \"▾\";}#sk-container-id-1 div.sk-estimator input.sk-toggleable__control:checked~label.sk-toggleable__label {background-color: #d4ebff;}#sk-container-id-1 div.sk-label input.sk-toggleable__control:checked~label.sk-toggleable__label {background-color: #d4ebff;}#sk-container-id-1 input.sk-hidden--visually {border: 0;clip: rect(1px 1px 1px 1px);clip: rect(1px, 1px, 1px, 1px);height: 1px;margin: -1px;overflow: hidden;padding: 0;position: absolute;width: 1px;}#sk-container-id-1 div.sk-estimator {font-family: monospace;background-color: #f0f8ff;border: 1px dotted black;border-radius: 0.25em;box-sizing: border-box;margin-bottom: 0.5em;}#sk-container-id-1 div.sk-estimator:hover {background-color: #d4ebff;}#sk-container-id-1 div.sk-parallel-item::after {content: \"\";width: 100%;border-bottom: 1px solid gray;flex-grow: 1;}#sk-container-id-1 div.sk-label:hover label.sk-toggleable__label {background-color: #d4ebff;}#sk-container-id-1 div.sk-serial::before {content: \"\";position: absolute;border-left: 1px solid gray;box-sizing: border-box;top: 0;bottom: 0;left: 50%;z-index: 0;}#sk-container-id-1 div.sk-serial {display: flex;flex-direction: column;align-items: center;background-color: white;padding-right: 0.2em;padding-left: 0.2em;position: relative;}#sk-container-id-1 div.sk-item {position: relative;z-index: 1;}#sk-container-id-1 div.sk-parallel {display: flex;align-items: stretch;justify-content: center;background-color: white;position: relative;}#sk-container-id-1 div.sk-item::before, #sk-container-id-1 div.sk-parallel-item::before {content: \"\";position: absolute;border-left: 1px solid gray;box-sizing: border-box;top: 0;bottom: 0;left: 50%;z-index: -1;}#sk-container-id-1 div.sk-parallel-item {display: flex;flex-direction: column;z-index: 1;position: relative;background-color: white;}#sk-container-id-1 div.sk-parallel-item:first-child::after {align-self: flex-end;width: 50%;}#sk-container-id-1 div.sk-parallel-item:last-child::after {align-self: flex-start;width: 50%;}#sk-container-id-1 div.sk-parallel-item:only-child::after {width: 0;}#sk-container-id-1 div.sk-dashed-wrapped {border: 1px dashed gray;margin: 0 0.4em 0.5em 0.4em;box-sizing: border-box;padding-bottom: 0.4em;background-color: white;}#sk-container-id-1 div.sk-label label {font-family: monospace;font-weight: bold;display: inline-block;line-height: 1.2em;}#sk-container-id-1 div.sk-label-container {text-align: center;}#sk-container-id-1 div.sk-container {/* jupyter's `normalize.less` sets `[hidden] { display: none; }` but bootstrap.min.css set `[hidden] { display: none !important; }` so we also need the `!important` here to be able to override the default hidden behavior on the sphinx rendered scikit-learn.org. See: https://github.com/scikit-learn/scikit-learn/issues/21755 */display: inline-block !important;position: relative;}#sk-container-id-1 div.sk-text-repr-fallback {display: none;}</style><div id=\"sk-container-id-1\" class=\"sk-top-container\"><div class=\"sk-text-repr-fallback\"><pre>GridSearchCV(cv=&lt;generator object _BaseKFold.split at 0x290956d50&gt;,\n",
       "             estimator=LogisticRegression(max_iter=100000, solver=&#x27;liblinear&#x27;),\n",
       "             n_jobs=1, param_grid={&#x27;C&#x27;: [0.0001, 0.001, 0.01, 0.1, 1]},\n",
       "             scoring=make_scorer(roc_auc_score, needs_proba=True))</pre><b>In a Jupyter environment, please rerun this cell to show the HTML representation or trust the notebook. <br />On GitHub, the HTML representation is unable to render, please try loading this page with nbviewer.org.</b></div><div class=\"sk-container\" hidden><div class=\"sk-item sk-dashed-wrapped\"><div class=\"sk-label-container\"><div class=\"sk-label sk-toggleable\"><input class=\"sk-toggleable__control sk-hidden--visually\" id=\"sk-estimator-id-1\" type=\"checkbox\" ><label for=\"sk-estimator-id-1\" class=\"sk-toggleable__label sk-toggleable__label-arrow\">GridSearchCV</label><div class=\"sk-toggleable__content\"><pre>GridSearchCV(cv=&lt;generator object _BaseKFold.split at 0x290956d50&gt;,\n",
       "             estimator=LogisticRegression(max_iter=100000, solver=&#x27;liblinear&#x27;),\n",
       "             n_jobs=1, param_grid={&#x27;C&#x27;: [0.0001, 0.001, 0.01, 0.1, 1]},\n",
       "             scoring=make_scorer(roc_auc_score, needs_proba=True))</pre></div></div></div><div class=\"sk-parallel\"><div class=\"sk-parallel-item\"><div class=\"sk-item\"><div class=\"sk-label-container\"><div class=\"sk-label sk-toggleable\"><input class=\"sk-toggleable__control sk-hidden--visually\" id=\"sk-estimator-id-2\" type=\"checkbox\" ><label for=\"sk-estimator-id-2\" class=\"sk-toggleable__label sk-toggleable__label-arrow\">estimator: LogisticRegression</label><div class=\"sk-toggleable__content\"><pre>LogisticRegression(max_iter=100000, solver=&#x27;liblinear&#x27;)</pre></div></div></div><div class=\"sk-serial\"><div class=\"sk-item\"><div class=\"sk-estimator sk-toggleable\"><input class=\"sk-toggleable__control sk-hidden--visually\" id=\"sk-estimator-id-3\" type=\"checkbox\" ><label for=\"sk-estimator-id-3\" class=\"sk-toggleable__label sk-toggleable__label-arrow\">LogisticRegression</label><div class=\"sk-toggleable__content\"><pre>LogisticRegression(max_iter=100000, solver=&#x27;liblinear&#x27;)</pre></div></div></div></div></div></div></div></div></div></div>"
      ],
      "text/plain": [
       "GridSearchCV(cv=<generator object _BaseKFold.split at 0x290956d50>,\n",
       "             estimator=LogisticRegression(max_iter=100000, solver='liblinear'),\n",
       "             n_jobs=1, param_grid={'C': [0.0001, 0.001, 0.01, 0.1, 1]},\n",
       "             scoring=make_scorer(roc_auc_score, needs_proba=True))"
      ]
     },
     "execution_count": 17,
     "metadata": {},
     "output_type": "execute_result"
    }
   ],
   "source": [
    "# Grid of potential inverse L2 penalty parameters.\n",
    "L2_grid = {\"C\": [1e-04, 1e-03, 1e-02, 1e-01, 1]}\n",
    "\n",
    "reg_model = LogisticRegression(\n",
    "    penalty = \"l2\",\n",
    "    solver = \"liblinear\",\n",
    "    max_iter = 100000,\n",
    "    verbose = 0\n",
    ")\n",
    "\n",
    "gscv = GridSearchCV(\n",
    "    reg_model,\n",
    "    scoring = make_scorer(\n",
    "        roc_auc_score,\n",
    "        needs_proba = True\n",
    "    ),\n",
    "    param_grid = L2_grid,\n",
    "    n_jobs = 1,\n",
    "    cv = skf.split(Xtr, Ytr)\n",
    ")\n",
    "\n",
    "# Run grid search cross validation.\n",
    "gscv.fit(Xtr, np.array(Ytr).ravel())"
   ]
  },
  {
   "cell_type": "code",
   "execution_count": 18,
   "id": "c992e199",
   "metadata": {},
   "outputs": [
    {
     "data": {
      "text/plain": [
       "0.663667953730841"
      ]
     },
     "execution_count": 18,
     "metadata": {},
     "output_type": "execute_result"
    }
   ],
   "source": [
    "gscv.best_score_"
   ]
  },
  {
   "cell_type": "code",
   "execution_count": 19,
   "id": "bfbbd7ef",
   "metadata": {},
   "outputs": [
    {
     "data": {
      "text/plain": [
       "{'C': 0.001}"
      ]
     },
     "execution_count": 19,
     "metadata": {},
     "output_type": "execute_result"
    }
   ],
   "source": [
    "gscv.best_params_"
   ]
  },
  {
   "cell_type": "markdown",
   "id": "71443dca",
   "metadata": {},
   "source": [
    "#### Feature Importances"
   ]
  },
  {
   "cell_type": "code",
   "execution_count": 21,
   "id": "90985e55",
   "metadata": {},
   "outputs": [
    {
     "data": {
      "image/png": "[encoded data removed]",
      "text/plain": [
       "<Figure size 1100x700 with 1 Axes>"
      ]
     },
     "metadata": {},
     "output_type": "display_data"
    }
   ],
   "source": [
    "column_names = imp.get_feature_names_out()\n",
    "fi = abs(gscv.best_estimator_.coef_)[0] # Absolute value of coefficient estimates.\n",
    "fi = (fi / fi.max()) * 100.0 # Scale by largest value.\n",
    "idx = np.argsort(fi)[-10:] # Sort by relative importance and subset top 10.\n",
    "pos = np.arange(idx.shape[0]) + .5\n",
    "fig = plt.figure()\n",
    "fig.set_size_inches(11, 7)\n",
    "ax = fig.add_subplot(1, 1, 1)\n",
    "ax.barh(pos, fi[idx], align = \"center\")\n",
    "ax.set_yticks(pos)\n",
    "ax.set_yticklabels(np.array(column_names)[idx], fontsize = 11)\n",
    "ax.set_xlabel(\"Relative Feature Importance\")\n",
    "plt.show()"
   ]
  },
  {
   "cell_type": "code",
   "execution_count": 23,
   "id": "cd5f25cc-7167-4336-9d0b-eee1f4509599",
   "metadata": {},
   "outputs": [
    {
     "data": {
      "text/plain": [
       "array([-0.00081854, -0.00126121, -0.00172608, -0.00327427, -0.0035363 ,\n",
       "       -0.00375309, -0.00401692, -0.00485747, -0.00486539, -0.00496558])"
      ]
     },
     "execution_count": 23,
     "metadata": {},
     "output_type": "execute_result"
    }
   ],
   "source": [
    "gscv.best_estimator_.coef_[0][idx]"
   ]
  },
  {
   "cell_type": "code",
   "execution_count": 24,
   "id": "0ad30711",
   "metadata": {},
   "outputs": [],
   "source": [
    "Y_pred = gscv.best_estimator_.predict_proba(Xva)[:, 1]\n",
    "cc_y, cc_x = calibration_curve(\n",
    "    y_true = Yva,\n",
    "    y_prob = Y_pred,\n",
    "    n_bins = 10\n",
    ")"
   ]
  },
  {
   "cell_type": "markdown",
   "id": "5d2b3350",
   "metadata": {},
   "source": [
    "Use the optimal L2 hyperparameter from grid search cross validation to train a calibrated classifier. Then use this trained classifier to visualize the learning curves across different data set sizes to help diagnose potential issues from bias or variance."
   ]
  },
  {
   "cell_type": "code",
   "execution_count": 25,
   "id": "1478e9c1",
   "metadata": {},
   "outputs": [],
   "source": [
    "# Use optimal C parameter from grid search.\n",
    "reg_model = LogisticRegression(\n",
    "    C = gscv.best_params_[\"C\"],\n",
    "    penalty = \"l2\",\n",
    "    solver = \"liblinear\",\n",
    "    max_iter = 100000,\n",
    "    verbose = 0\n",
    ")\n",
    "\n",
    "# Use Platt Scaling for calibration of model.\n",
    "reg_model_calibrated = CalibratedClassifierCV(\n",
    "    estimator = reg_model,\n",
    "    method = \"sigmoid\",\n",
    "    ensemble = True,\n",
    "    n_jobs = -1\n",
    ")\n",
    "\n",
    "train_sizes, train_scores, valid_scores = learning_curve(\n",
    "    reg_model_calibrated,\n",
    "    Xtr,\n",
    "    np.array(Ytr).ravel(),\n",
    "    train_sizes = np.linspace(0.2, 1, 20),\n",
    "    cv = skf.split(Xtr, Ytr),\n",
    "    scoring = make_scorer(\n",
    "        roc_auc_score,\n",
    "        needs_proba = True\n",
    "    )\n",
    ")\n",
    "\n",
    "# Average precision score across the cross validation folds.\n",
    "train_scores = [np.mean(m) for m in train_scores]\n",
    "valid_scores = [np.mean(m) for m in valid_scores]"
   ]
  },
  {
   "cell_type": "markdown",
   "id": "835f837f",
   "metadata": {},
   "source": [
    "#### Visualize Baseline Learning Curves"
   ]
  },
  {
   "cell_type": "code",
   "execution_count": 26,
   "id": "1392f6bf",
   "metadata": {},
   "outputs": [
    {
     "data": {
      "image/png": "[encoded data removed]",
      "text/plain": [
       "<Figure size 640x480 with 1 Axes>"
      ]
     },
     "metadata": {},
     "output_type": "display_data"
    }
   ],
   "source": [
    "# Training and validation ROC AUC learning curves.\n",
    "plt.plot(train_sizes, train_scores, color = \"#2164F3\")\n",
    "plt.plot(train_sizes, valid_scores, color = \"#FF6600\")\n",
    "plt.title(f\"Baseline Regression ROC AUC Learning Curves\")\n",
    "plt.ylabel(f\"ROC AUC\")\n",
    "plt.xlabel(\"Training Set Size\")\n",
    "plt.legend([\"train\", \"valid\"],\n",
    "           loc = \"lower right\")\n",
    "plt.show()"
   ]
  },
  {
   "cell_type": "markdown",
   "id": "272488bf",
   "metadata": {},
   "source": [
    "The variance gap doesn't seem too large but the average precision is really low. It seems like gathering more data would improve the performance slightly as the learning curves have not flattened out as the training set size is increased."
   ]
  },
  {
   "cell_type": "code",
   "execution_count": 27,
   "id": "df57fdf1",
   "metadata": {},
   "outputs": [],
   "source": [
    "reg_model_calibrated = CalibratedClassifierCV(\n",
    "    estimator = reg_model,\n",
    "    method = \"sigmoid\",\n",
    "    ensemble = True,\n",
    "    n_jobs = -1,\n",
    "    cv = skf.split(Xtr, Ytr)\n",
    ")\n",
    "reg_model_calibrated.fit(\n",
    "    Xtr,\n",
    "    np.array(Ytr).ravel()\n",
    ")\n",
    "\n",
    "# Create a calibration plot to visualize probability calibration.\n",
    "Y_pred_c = reg_model_calibrated.predict_proba(Xva)[:, 1]\n",
    "cc_cal_y, cc_cal_x = calibration_curve(\n",
    "    y_true = Yva,\n",
    "    y_prob = Y_pred_c,\n",
    "    n_bins = 10\n",
    ")"
   ]
  },
  {
   "cell_type": "code",
   "execution_count": 28,
   "id": "4877a94c",
   "metadata": {},
   "outputs": [
    {
     "data": {
      "image/png": "[encoded data removed]",
      "text/plain": [
       "<Figure size 640x480 with 1 Axes>"
      ]
     },
     "metadata": {},
     "output_type": "display_data"
    }
   ],
   "source": [
    "fig, ax = plt.subplots()\n",
    "plt.plot(cc_x, \n",
    "         cc_y, \n",
    "         marker = \"o\", \n",
    "         linewidth = 1, \n",
    "         color = \"orange\",\n",
    "         label = \"uncalibrated model\")\n",
    "\n",
    "plt.plot(cc_cal_x, \n",
    "         cc_cal_y, \n",
    "         marker = \"o\", \n",
    "         linewidth = 1,\n",
    "         color = \"aquamarine\",\n",
    "         label = \"calibrated model\")\n",
    "\n",
    "fig.suptitle(\"Calibration Curves\")\n",
    "ax.set_xlabel(\"Average Probability Estimate\")\n",
    "ax.set_ylabel(\"True Fraction of Positives\")\n",
    "plt.legend()\n",
    "plt.show()"
   ]
  },
  {
   "cell_type": "markdown",
   "id": "cda038df",
   "metadata": {},
   "source": [
    "#### Performance\n",
    "Generate the performance metrics of the calibrated baseline logistic regression model using the average ROC AUC over the stratified cross validation folds. This should give a reasonable expectation of the test set performance. Use all of the available data for training."
   ]
  },
  {
   "cell_type": "code",
   "execution_count": 29,
   "id": "b32837e9",
   "metadata": {},
   "outputs": [
    {
     "data": {
      "text/plain": [
       "((40000, 341), (40000,))"
      ]
     },
     "execution_count": 29,
     "metadata": {},
     "output_type": "execute_result"
    }
   ],
   "source": [
    "# Combine training and validation into a single data set.\n",
    "Xtr = np.vstack((Xtr, Xva))\n",
    "Ytr = pd.concat([Ytr, Yva])\n",
    "\n",
    "Xtr.shape, Ytr.shape"
   ]
  },
  {
   "cell_type": "code",
   "execution_count": 30,
   "id": "cc398434",
   "metadata": {},
   "outputs": [],
   "source": [
    "reg_model_calibrated = CalibratedClassifierCV(\n",
    "    estimator = reg_model,\n",
    "    method = \"sigmoid\",\n",
    "    ensemble = True\n",
    ")\n",
    "\n",
    "cv_score_baseline = cv_score(\n",
    "    reg_model_calibrated,\n",
    "    Xtr,\n",
    "    np.array(Ytr).ravel(),\n",
    "    cv = skf.split(Xtr, Ytr),\n",
    "    scoring = make_scorer(\n",
    "        roc_auc_score,\n",
    "        needs_proba = True\n",
    "    ),\n",
    "    n_jobs = -1\n",
    ")"
   ]
  },
  {
   "cell_type": "code",
   "execution_count": 31,
   "id": "7019b2c1",
   "metadata": {},
   "outputs": [
    {
     "name": "stdout",
     "output_type": "stream",
     "text": [
      "The expected ROC AUC from the baseline model is 0.662.\n"
     ]
    }
   ],
   "source": [
    "print(f\"The expected ROC AUC from the baseline model is { round(np.mean(cv_score_baseline), 3) }.\")"
   ]
  },
  {
   "cell_type": "markdown",
   "id": "4c2ddd6c",
   "metadata": {},
   "source": [
    "#### Test Set Predictions"
   ]
  },
  {
   "cell_type": "code",
   "execution_count": 32,
   "id": "6a1fcc25",
   "metadata": {},
   "outputs": [],
   "source": [
    "# Train models using all available data.\n",
    "reg_model_calibrated.fit(Xtr, np.array(Ytr).ravel())\n",
    "\n",
    "pred_baseline = reg_model_calibrated.predict_proba(Xte)[:, 1]\n",
    "Yte[\"glm_pred\"] = np.round(pred_baseline, 4)\n",
    "\n",
    "# Append the probabilities to the plcy_id in Yte and save as a csv.\n",
    "Yte.to_csv(\n",
    "    DATA_PATH + \"DS_Work_Sample_Scored.csv\",\n",
    "    index = False,\n",
    "    header = True\n",
    ")"
   ]
  }
 ],
 "metadata": {
  "kernelspec": {
   "display_name": "Python 3 (ipykernel)",
   "language": "python",
   "name": "python3"
  },
  "language_info": {
   "codemirror_mode": {
    "name": "ipython",
    "version": 3
   },
   "file_extension": ".py",
   "mimetype": "text/x-python",
   "name": "python",
   "nbconvert_exporter": "python",
   "pygments_lexer": "ipython3",
   "version": "3.10.6"
  }
 },
 "nbformat": 4,
 "nbformat_minor": 5
}
